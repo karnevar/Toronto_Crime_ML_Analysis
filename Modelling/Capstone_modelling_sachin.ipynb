{
 "cells": [
  {
   "cell_type": "markdown",
   "metadata": {},
   "source": [
    "Model Building"
   ]
  },
  {
   "cell_type": "code",
   "execution_count": 213,
   "metadata": {},
   "outputs": [],
   "source": [
    "import pandas as pd\n",
    "import numpy as np\n",
    "import matplotlib.pyplot as plt\n",
    "import seaborn as sns\n",
    "from matplotlib.pyplot import subplots, figure, show\n",
    "from matplotlib import pyplot, pylab\n",
    "from sklearn.model_selection import GridSearchCV\n",
    "from sklearn.model_selection import StratifiedKFold"
   ]
  },
  {
   "cell_type": "code",
   "execution_count": 3,
   "metadata": {},
   "outputs": [],
   "source": [
    "import pandas as pd\n",
    "from sklearn.model_selection import train_test_split\n",
    "from sklearn.preprocessing import OneHotEncoder, LabelEncoder\n",
    "from sklearn.ensemble import RandomForestRegressor\n",
    "from sklearn.ensemble import RandomForestClassifier\n",
    "from sklearn.ensemble import GradientBoostingClassifier\n",
    "from sklearn.naive_bayes import GaussianNB\n",
    "\n",
    "from sklearn import metrics\n",
    "from sklearn.svm import SVC\n",
    "\n",
    "import itertools\n",
    "import numpy as np\n",
    "import pandas as pd\n",
    "import seaborn as sns\n",
    "import matplotlib.pyplot as plt\n",
    "import warnings\n",
    "warnings.filterwarnings(\"ignore\")"
   ]
  },
  {
   "cell_type": "code",
   "execution_count": 3,
   "metadata": {},
   "outputs": [],
   "source": [
    "df=pd.read_csv(\"MCI_2014_to_2019.csv\")"
   ]
  },
  {
   "cell_type": "code",
   "execution_count": 4,
   "metadata": {},
   "outputs": [
    {
     "name": "stdout",
     "output_type": "stream",
     "text": [
      "<class 'pandas.core.frame.DataFrame'>\n",
      "RangeIndex: 206435 entries, 0 to 206434\n",
      "Data columns (total 29 columns):\n",
      "X                      206435 non-null float64\n",
      "Y                      206435 non-null float64\n",
      "Index_                 206435 non-null int64\n",
      "event_unique_id        206435 non-null object\n",
      "occurrencedate         206435 non-null object\n",
      "reporteddate           206435 non-null object\n",
      "premisetype            206435 non-null object\n",
      "ucr_code               206435 non-null int64\n",
      "ucr_ext                206435 non-null int64\n",
      "offence                206435 non-null object\n",
      "reportedyear           206435 non-null int64\n",
      "reportedmonth          206435 non-null object\n",
      "reportedday            206435 non-null int64\n",
      "reporteddayofyear      206435 non-null int64\n",
      "reporteddayofweek      206435 non-null object\n",
      "reportedhour           206435 non-null int64\n",
      "occurrenceyear         206376 non-null float64\n",
      "occurrencemonth        206376 non-null object\n",
      "occurrenceday          206376 non-null float64\n",
      "occurrencedayofyear    206376 non-null float64\n",
      "occurrencedayofweek    206376 non-null object\n",
      "occurrencehour         206435 non-null int64\n",
      "MCI                    206435 non-null object\n",
      "Division               206435 non-null object\n",
      "Hood_ID                206435 non-null int64\n",
      "Neighbourhood          206435 non-null object\n",
      "Long                   206435 non-null float64\n",
      "Lat                    206435 non-null float64\n",
      "ObjectId               206435 non-null int64\n",
      "dtypes: float64(7), int64(10), object(12)\n",
      "memory usage: 45.7+ MB\n"
     ]
    }
   ],
   "source": [
    "df.info()"
   ]
  },
  {
   "cell_type": "code",
   "execution_count": 7,
   "metadata": {},
   "outputs": [],
   "source": [
    "#df=df.drop(['event_unique_id','reporteddate','reportedyear','reportedmonth','reportedday','reporteddayofyear','reporteddayofweek','reportedhour'],axis=1)"
   ]
  },
  {
   "cell_type": "code",
   "execution_count": 8,
   "metadata": {},
   "outputs": [],
   "source": [
    "#df=df.drop(['Index_'],axis=1)"
   ]
  },
  {
   "cell_type": "code",
   "execution_count": 5,
   "metadata": {},
   "outputs": [
    {
     "data": {
      "text/html": [
       "<div>\n",
       "<style scoped>\n",
       "    .dataframe tbody tr th:only-of-type {\n",
       "        vertical-align: middle;\n",
       "    }\n",
       "\n",
       "    .dataframe tbody tr th {\n",
       "        vertical-align: top;\n",
       "    }\n",
       "\n",
       "    .dataframe thead th {\n",
       "        text-align: right;\n",
       "    }\n",
       "</style>\n",
       "<table border=\"1\" class=\"dataframe\">\n",
       "  <thead>\n",
       "    <tr style=\"text-align: right;\">\n",
       "      <th></th>\n",
       "      <th>X</th>\n",
       "      <th>Y</th>\n",
       "      <th>Index_</th>\n",
       "      <th>event_unique_id</th>\n",
       "      <th>occurrencedate</th>\n",
       "      <th>reporteddate</th>\n",
       "      <th>premisetype</th>\n",
       "      <th>ucr_code</th>\n",
       "      <th>ucr_ext</th>\n",
       "      <th>offence</th>\n",
       "      <th>...</th>\n",
       "      <th>occurrencedayofyear</th>\n",
       "      <th>occurrencedayofweek</th>\n",
       "      <th>occurrencehour</th>\n",
       "      <th>MCI</th>\n",
       "      <th>Division</th>\n",
       "      <th>Hood_ID</th>\n",
       "      <th>Neighbourhood</th>\n",
       "      <th>Long</th>\n",
       "      <th>Lat</th>\n",
       "      <th>ObjectId</th>\n",
       "    </tr>\n",
       "  </thead>\n",
       "  <tbody>\n",
       "    <tr>\n",
       "      <th>0</th>\n",
       "      <td>-79.405228</td>\n",
       "      <td>43.656982</td>\n",
       "      <td>7801</td>\n",
       "      <td>GO-20152165447</td>\n",
       "      <td>2015-12-18T03:58:00.000Z</td>\n",
       "      <td>2015-12-18T03:59:00.000Z</td>\n",
       "      <td>Commercial</td>\n",
       "      <td>1430</td>\n",
       "      <td>100</td>\n",
       "      <td>Assault</td>\n",
       "      <td>...</td>\n",
       "      <td>352.0</td>\n",
       "      <td>Friday</td>\n",
       "      <td>3</td>\n",
       "      <td>Assault</td>\n",
       "      <td>D14</td>\n",
       "      <td>79</td>\n",
       "      <td>University (79)</td>\n",
       "      <td>-79.405228</td>\n",
       "      <td>43.656982</td>\n",
       "      <td>7001</td>\n",
       "    </tr>\n",
       "    <tr>\n",
       "      <th>1</th>\n",
       "      <td>-79.307907</td>\n",
       "      <td>43.778732</td>\n",
       "      <td>7802</td>\n",
       "      <td>GO-20151417245</td>\n",
       "      <td>2015-08-15T21:45:00.000Z</td>\n",
       "      <td>2015-08-17T22:11:00.000Z</td>\n",
       "      <td>Commercial</td>\n",
       "      <td>1430</td>\n",
       "      <td>100</td>\n",
       "      <td>Assault</td>\n",
       "      <td>...</td>\n",
       "      <td>227.0</td>\n",
       "      <td>Saturday</td>\n",
       "      <td>21</td>\n",
       "      <td>Assault</td>\n",
       "      <td>D42</td>\n",
       "      <td>118</td>\n",
       "      <td>Tam O'Shanter-Sullivan (118)</td>\n",
       "      <td>-79.307907</td>\n",
       "      <td>43.778732</td>\n",
       "      <td>7002</td>\n",
       "    </tr>\n",
       "    <tr>\n",
       "      <th>2</th>\n",
       "      <td>-79.225029</td>\n",
       "      <td>43.765942</td>\n",
       "      <td>7803</td>\n",
       "      <td>GO-20151421107</td>\n",
       "      <td>2015-08-16T16:00:00.000Z</td>\n",
       "      <td>2015-08-18T14:40:00.000Z</td>\n",
       "      <td>Apartment</td>\n",
       "      <td>2120</td>\n",
       "      <td>200</td>\n",
       "      <td>B&amp;E</td>\n",
       "      <td>...</td>\n",
       "      <td>228.0</td>\n",
       "      <td>Sunday</td>\n",
       "      <td>16</td>\n",
       "      <td>Break and Enter</td>\n",
       "      <td>D43</td>\n",
       "      <td>137</td>\n",
       "      <td>Woburn (137)</td>\n",
       "      <td>-79.225029</td>\n",
       "      <td>43.765942</td>\n",
       "      <td>7003</td>\n",
       "    </tr>\n",
       "    <tr>\n",
       "      <th>3</th>\n",
       "      <td>-79.140823</td>\n",
       "      <td>43.778648</td>\n",
       "      <td>7804</td>\n",
       "      <td>GO-20152167714</td>\n",
       "      <td>2015-11-26T13:00:00.000Z</td>\n",
       "      <td>2015-12-18T13:38:00.000Z</td>\n",
       "      <td>Other</td>\n",
       "      <td>2120</td>\n",
       "      <td>200</td>\n",
       "      <td>B&amp;E</td>\n",
       "      <td>...</td>\n",
       "      <td>330.0</td>\n",
       "      <td>Thursday</td>\n",
       "      <td>13</td>\n",
       "      <td>Break and Enter</td>\n",
       "      <td>D43</td>\n",
       "      <td>133</td>\n",
       "      <td>Centennial Scarborough (133)</td>\n",
       "      <td>-79.140823</td>\n",
       "      <td>43.778648</td>\n",
       "      <td>7004</td>\n",
       "    </tr>\n",
       "    <tr>\n",
       "      <th>4</th>\n",
       "      <td>-79.288361</td>\n",
       "      <td>43.691235</td>\n",
       "      <td>7805</td>\n",
       "      <td>GO-20152169954</td>\n",
       "      <td>2015-12-18T19:50:00.000Z</td>\n",
       "      <td>2015-12-18T19:55:00.000Z</td>\n",
       "      <td>Commercial</td>\n",
       "      <td>1430</td>\n",
       "      <td>100</td>\n",
       "      <td>Assault</td>\n",
       "      <td>...</td>\n",
       "      <td>352.0</td>\n",
       "      <td>Friday</td>\n",
       "      <td>19</td>\n",
       "      <td>Assault</td>\n",
       "      <td>D55</td>\n",
       "      <td>61</td>\n",
       "      <td>Taylor-Massey (61)</td>\n",
       "      <td>-79.288361</td>\n",
       "      <td>43.691235</td>\n",
       "      <td>7005</td>\n",
       "    </tr>\n",
       "  </tbody>\n",
       "</table>\n",
       "<p>5 rows × 29 columns</p>\n",
       "</div>"
      ],
      "text/plain": [
       "           X          Y  Index_ event_unique_id            occurrencedate  \\\n",
       "0 -79.405228  43.656982    7801  GO-20152165447  2015-12-18T03:58:00.000Z   \n",
       "1 -79.307907  43.778732    7802  GO-20151417245  2015-08-15T21:45:00.000Z   \n",
       "2 -79.225029  43.765942    7803  GO-20151421107  2015-08-16T16:00:00.000Z   \n",
       "3 -79.140823  43.778648    7804  GO-20152167714  2015-11-26T13:00:00.000Z   \n",
       "4 -79.288361  43.691235    7805  GO-20152169954  2015-12-18T19:50:00.000Z   \n",
       "\n",
       "               reporteddate premisetype  ucr_code  ucr_ext  offence  ...  \\\n",
       "0  2015-12-18T03:59:00.000Z  Commercial      1430      100  Assault  ...   \n",
       "1  2015-08-17T22:11:00.000Z  Commercial      1430      100  Assault  ...   \n",
       "2  2015-08-18T14:40:00.000Z   Apartment      2120      200      B&E  ...   \n",
       "3  2015-12-18T13:38:00.000Z       Other      2120      200      B&E  ...   \n",
       "4  2015-12-18T19:55:00.000Z  Commercial      1430      100  Assault  ...   \n",
       "\n",
       "   occurrencedayofyear occurrencedayofweek  occurrencehour              MCI  \\\n",
       "0                352.0          Friday                   3          Assault   \n",
       "1                227.0          Saturday                21          Assault   \n",
       "2                228.0          Sunday                  16  Break and Enter   \n",
       "3                330.0          Thursday                13  Break and Enter   \n",
       "4                352.0          Friday                  19          Assault   \n",
       "\n",
       "  Division  Hood_ID                 Neighbourhood       Long        Lat  \\\n",
       "0      D14       79               University (79) -79.405228  43.656982   \n",
       "1      D42      118  Tam O'Shanter-Sullivan (118) -79.307907  43.778732   \n",
       "2      D43      137                  Woburn (137) -79.225029  43.765942   \n",
       "3      D43      133  Centennial Scarborough (133) -79.140823  43.778648   \n",
       "4      D55       61            Taylor-Massey (61) -79.288361  43.691235   \n",
       "\n",
       "   ObjectId  \n",
       "0      7001  \n",
       "1      7002  \n",
       "2      7003  \n",
       "3      7004  \n",
       "4      7005  \n",
       "\n",
       "[5 rows x 29 columns]"
      ]
     },
     "execution_count": 5,
     "metadata": {},
     "output_type": "execute_result"
    }
   ],
   "source": [
    "df.head()"
   ]
  },
  {
   "cell_type": "code",
   "execution_count": 6,
   "metadata": {},
   "outputs": [
    {
     "data": {
      "text/html": [
       "<div>\n",
       "<style scoped>\n",
       "    .dataframe tbody tr th:only-of-type {\n",
       "        vertical-align: middle;\n",
       "    }\n",
       "\n",
       "    .dataframe tbody tr th {\n",
       "        vertical-align: top;\n",
       "    }\n",
       "\n",
       "    .dataframe thead th {\n",
       "        text-align: right;\n",
       "    }\n",
       "</style>\n",
       "<table border=\"1\" class=\"dataframe\">\n",
       "  <thead>\n",
       "    <tr style=\"text-align: right;\">\n",
       "      <th></th>\n",
       "      <th>MCI</th>\n",
       "      <th>premisetype</th>\n",
       "      <th>occurrencemonth</th>\n",
       "      <th>occurrencedayofweek</th>\n",
       "      <th>occurrencehour</th>\n",
       "      <th>Neighbourhood</th>\n",
       "    </tr>\n",
       "  </thead>\n",
       "  <tbody>\n",
       "    <tr>\n",
       "      <th>0</th>\n",
       "      <td>Assault</td>\n",
       "      <td>Commercial</td>\n",
       "      <td>December</td>\n",
       "      <td>Friday</td>\n",
       "      <td>3</td>\n",
       "      <td>University (79)</td>\n",
       "    </tr>\n",
       "    <tr>\n",
       "      <th>1</th>\n",
       "      <td>Assault</td>\n",
       "      <td>Commercial</td>\n",
       "      <td>August</td>\n",
       "      <td>Saturday</td>\n",
       "      <td>21</td>\n",
       "      <td>Tam O'Shanter-Sullivan (118)</td>\n",
       "    </tr>\n",
       "    <tr>\n",
       "      <th>2</th>\n",
       "      <td>Break and Enter</td>\n",
       "      <td>Apartment</td>\n",
       "      <td>August</td>\n",
       "      <td>Sunday</td>\n",
       "      <td>16</td>\n",
       "      <td>Woburn (137)</td>\n",
       "    </tr>\n",
       "    <tr>\n",
       "      <th>3</th>\n",
       "      <td>Break and Enter</td>\n",
       "      <td>Other</td>\n",
       "      <td>November</td>\n",
       "      <td>Thursday</td>\n",
       "      <td>13</td>\n",
       "      <td>Centennial Scarborough (133)</td>\n",
       "    </tr>\n",
       "    <tr>\n",
       "      <th>4</th>\n",
       "      <td>Assault</td>\n",
       "      <td>Commercial</td>\n",
       "      <td>December</td>\n",
       "      <td>Friday</td>\n",
       "      <td>19</td>\n",
       "      <td>Taylor-Massey (61)</td>\n",
       "    </tr>\n",
       "  </tbody>\n",
       "</table>\n",
       "</div>"
      ],
      "text/plain": [
       "               MCI premisetype occurrencemonth occurrencedayofweek  \\\n",
       "0          Assault  Commercial        December          Friday       \n",
       "1          Assault  Commercial          August          Saturday     \n",
       "2  Break and Enter   Apartment          August          Sunday       \n",
       "3  Break and Enter       Other        November          Thursday     \n",
       "4          Assault  Commercial        December          Friday       \n",
       "\n",
       "   occurrencehour                 Neighbourhood  \n",
       "0               3               University (79)  \n",
       "1              21  Tam O'Shanter-Sullivan (118)  \n",
       "2              16                  Woburn (137)  \n",
       "3              13  Centennial Scarborough (133)  \n",
       "4              19            Taylor-Massey (61)  "
      ]
     },
     "execution_count": 6,
     "metadata": {},
     "output_type": "execute_result"
    }
   ],
   "source": [
    "df = pd.read_csv('MCI_2014_to_2019.csv',sep=',') \n",
    "df = df.drop(df[df['occurrenceyear'] < 2014].index)\n",
    "data_org = df.iloc[:,[22,6,17,20,21,25]]\n",
    "data_org = data_org.dropna()\n",
    "data_org.head()"
   ]
  },
  {
   "cell_type": "code",
   "execution_count": 9,
   "metadata": {},
   "outputs": [],
   "source": [
    "data = data_org.copy()\n",
    "# Get one hot encoding of columns premisetype\n",
    "one_hot = pd.get_dummies(data['premisetype'])\n",
    "# Join the encoded df\n",
    "data = data.join(one_hot)\n",
    "\n",
    "# Get one hot encoding of columns occurrencemonth\n",
    "one_hot = pd.get_dummies(data['occurrencemonth'])\n",
    "# Join the encoded df\n",
    "data = data.join(one_hot)\n",
    "\n",
    "# Get one hot encoding of columns occurrencedayofweek\n",
    "one_hot = pd.get_dummies(data['occurrencedayofweek'])\n",
    "# Join the encoded df\n",
    "data = data.join(one_hot)\n",
    "\n",
    "# Get one hot encoding of columns occurrencehour\n",
    "one_hot = pd.get_dummies(data['occurrencehour'])\n",
    "# Join the encoded df\n",
    "data = data.join(one_hot)\n",
    "\n",
    "# Get one hot encoding of columns Neighbourhood\n",
    "one_hot = pd.get_dummies(data['Neighbourhood'])\n",
    "# Join the encoded df\n",
    "data = data.join(one_hot)\n",
    "\n",
    "# Set column Neighbourhood as target\n",
    "data = data.drop('premisetype',axis = 1)\n",
    "data = data.drop('occurrencemonth',axis = 1)\n",
    "data = data.drop('Neighbourhood',axis = 1)\n",
    "data = data.drop('occurrencedayofweek',axis = 1)\n",
    "data = data.drop('occurrencehour',axis = 1)"
   ]
  },
  {
   "cell_type": "code",
   "execution_count": 12,
   "metadata": {},
   "outputs": [],
   "source": [
    "# Target selection\n",
    "y = data['MCI']\n",
    "data = data.drop('MCI',axis = 1)\n",
    "# Features selection\n",
    "X = data[data.columns[:]]  \n",
    "\n",
    "# Split dataset into training set and test set\n",
    "X_train, X_test, y_train, y_test = train_test_split(X, y, test_size=0.3) # 70% training and 30% test"
   ]
  },
  {
   "cell_type": "code",
   "execution_count": 29,
   "metadata": {},
   "outputs": [],
   "source": [
    "clf = RandomForestClassifier(n_estimators=50, max_depth = 25, criterion = 'gini')\n",
    "\n",
    "#Train the model using the training sets.\n",
    "clf.fit(X_train,y_train)\n",
    "\n",
    "y_pred = clf.predict(X_test)\n",
    "y_training = clf.predict(X_train)"
   ]
  },
  {
   "cell_type": "code",
   "execution_count": 30,
   "metadata": {},
   "outputs": [
    {
     "name": "stdout",
     "output_type": "stream",
     "text": [
      "Testing Accuracy: 60.16 %\n",
      "Training Accuracy: 63.77 %\n",
      "\n",
      "Classification report: \n",
      "                  precision    recall  f1-score   support\n",
      "\n",
      "        Assault       0.60      0.93      0.73     33148\n",
      "     Auto Theft       0.67      0.13      0.22      7154\n",
      "Break and Enter       0.61      0.40      0.48     12822\n",
      "        Robbery       0.69      0.01      0.03      6487\n",
      "     Theft Over       0.33      0.00      0.00      1986\n",
      "\n",
      "       accuracy                           0.60     61597\n",
      "      macro avg       0.58      0.30      0.29     61597\n",
      "   weighted avg       0.61      0.60      0.52     61597\n",
      " \n",
      "\n"
     ]
    }
   ],
   "source": [
    "print(\"Testing Accuracy:\", round(metrics.accuracy_score(y_test, y_pred) * 100, 2), \"%\")\n",
    "print(\"Training Accuracy:\", round(metrics.accuracy_score(y_train, y_training)* 100, 2), \"%\\n\")\n",
    "print( 'Classification report: \\n', metrics.classification_report(y_test, y_pred), \"\\n\")"
   ]
  },
  {
   "cell_type": "code",
   "execution_count": 90,
   "metadata": {},
   "outputs": [
    {
     "data": {
      "text/plain": [
       "{'max_depth': 25, 'n_estimators': 50}"
      ]
     },
     "execution_count": 90,
     "metadata": {},
     "output_type": "execute_result"
    }
   ],
   "source": [
    "\n",
    "\n",
    "# hyperparameter tuning\n",
    "param_grid = {   'n_estimators': [20, 30, 50], \n",
    "                 'max_depth': [10, 15, 20, 25],\n",
    "             }\n",
    "\n",
    "grid_clf = GridSearchCV(clf, param_grid, cv=10)\n",
    "grid_clf.fit(X_train, y_train)\n",
    "grid_clf.best_params_\n",
    "\n"
   ]
  },
  {
   "cell_type": "code",
   "execution_count": 70,
   "metadata": {},
   "outputs": [],
   "source": [
    "#Building a Random Forest after tuning\n",
    "\n",
    "clf_rf = RandomForestClassifier(n_estimators=80, max_depth = 20, criterion = 'gini')\n",
    "\n",
    "#Train the model using the training sets.\n",
    "clf_rf.fit(X_train,y_train)\n",
    "\n",
    "y_pred_kn = clf_rf.predict(X_test)\n",
    "y_training_kn = clf_rf.predict(X_train)"
   ]
  },
  {
   "cell_type": "code",
   "execution_count": 71,
   "metadata": {},
   "outputs": [
    {
     "name": "stdout",
     "output_type": "stream",
     "text": [
      "Testing Accuracy: 59.29 %\n",
      "Training Accuracy: 61.16 %\n",
      "\n",
      "Classification report: \n",
      "                  precision    recall  f1-score   support\n",
      "\n",
      "        Assault       0.59      0.94      0.72     33148\n",
      "     Auto Theft       0.67      0.10      0.18      7154\n",
      "Break and Enter       0.61      0.36      0.45     12822\n",
      "        Robbery       0.58      0.00      0.00      6487\n",
      "     Theft Over       0.00      0.00      0.00      1986\n",
      "\n",
      "       accuracy                           0.59     61597\n",
      "      macro avg       0.49      0.28      0.27     61597\n",
      "   weighted avg       0.58      0.59      0.51     61597\n",
      " \n",
      "\n"
     ]
    }
   ],
   "source": [
    "print(\"Testing Accuracy:\", round(metrics.accuracy_score(y_test, y_pred_kn) * 100, 2), \"%\")\n",
    "print(\"Training Accuracy:\", round(metrics.accuracy_score(y_train, y_training_kn)* 100, 2), \"%\\n\")\n",
    "print( 'Classification report: \\n', metrics.classification_report(y_test, y_pred_kn), \"\\n\")"
   ]
  },
  {
   "cell_type": "code",
   "execution_count": 72,
   "metadata": {},
   "outputs": [
    {
     "name": "stdout",
     "output_type": "stream",
     "text": [
      "Parameters currently in use:\n",
      "\n",
      "{'bootstrap': True,\n",
      " 'class_weight': None,\n",
      " 'criterion': 'gini',\n",
      " 'max_depth': 20,\n",
      " 'max_features': 'auto',\n",
      " 'max_leaf_nodes': None,\n",
      " 'min_impurity_decrease': 0.0,\n",
      " 'min_impurity_split': None,\n",
      " 'min_samples_leaf': 1,\n",
      " 'min_samples_split': 2,\n",
      " 'min_weight_fraction_leaf': 0.0,\n",
      " 'n_estimators': 80,\n",
      " 'n_jobs': None,\n",
      " 'oob_score': False,\n",
      " 'random_state': None,\n",
      " 'verbose': 0,\n",
      " 'warm_start': False}\n"
     ]
    }
   ],
   "source": [
    "from pprint import pprint\n",
    "print('Parameters currently in use:\\n')\n",
    "pprint(clf_rf.get_params())"
   ]
  },
  {
   "cell_type": "code",
   "execution_count": null,
   "metadata": {},
   "outputs": [],
   "source": [
    "#Logistic Regression"
   ]
  },
  {
   "cell_type": "code",
   "execution_count": 35,
   "metadata": {},
   "outputs": [],
   "source": [
    "from sklearn.linear_model import LogisticRegression"
   ]
  },
  {
   "cell_type": "code",
   "execution_count": 41,
   "metadata": {},
   "outputs": [],
   "source": [
    "logisticRegr = LogisticRegression()\n",
    "clf_log=logisticRegr.fit(X_train, y_train)"
   ]
  },
  {
   "cell_type": "code",
   "execution_count": 43,
   "metadata": {},
   "outputs": [],
   "source": [
    "#score = logisticRegr.score(X_test, y_test)\n",
    "#y_pred_log = clf_log.predict(X_test)\n",
    "#y_training_log = clf.predict(X_train)"
   ]
  },
  {
   "cell_type": "code",
   "execution_count": 44,
   "metadata": {},
   "outputs": [
    {
     "name": "stdout",
     "output_type": "stream",
     "text": [
      "Testing Accuracy: 58.69 %\n",
      "Training Accuracy: 61.38 %\n",
      "\n",
      "Classification report: \n",
      "                  precision    recall  f1-score   support\n",
      "\n",
      "        Assault       0.61      0.89      0.72     33148\n",
      "     Auto Theft       0.49      0.20      0.29      7154\n",
      "Break and Enter       0.51      0.39      0.44     12822\n",
      "        Robbery       0.45      0.01      0.02      6487\n",
      "     Theft Over       0.00      0.00      0.00      1986\n",
      "\n",
      "       accuracy                           0.59     61597\n",
      "      macro avg       0.41      0.30      0.29     61597\n",
      "   weighted avg       0.54      0.59      0.52     61597\n",
      " \n",
      "\n"
     ]
    }
   ],
   "source": [
    "#print(\"Testing Accuracy:\", round(metrics.accuracy_score(y_test, y_pred_log) * 100, 2), \"%\")\n",
    "#print(\"Training Accuracy:\", round(metrics.accuracy_score(y_train, y_training_log)* 100, 2), \"%\\n\")\n",
    "#print( 'Classification report: \\n', metrics.classification_report(y_test, y_pred_log), \"\\n\")"
   ]
  },
  {
   "cell_type": "code",
   "execution_count": null,
   "metadata": {},
   "outputs": [],
   "source": [
    "#kmeans Classifier"
   ]
  },
  {
   "cell_type": "code",
   "execution_count": 91,
   "metadata": {},
   "outputs": [],
   "source": [
    "from sklearn.neighbors import KNeighborsClassifier"
   ]
  },
  {
   "cell_type": "code",
   "execution_count": null,
   "metadata": {},
   "outputs": [],
   "source": [
    "#Knn classifier! too slow to load\n",
    "clf = KNeighborsClassifier(n_neighbors=1)\n",
    "clf.fit(X_train, y_train)\n",
    "ypred_knn = clf.predict(X_train)\n",
    "acc = accuracy_score(y_true=y_train, y_pred=ypred_knn)\n",
    "print('Acc: {:.4f}'.format(acc))"
   ]
  },
  {
   "cell_type": "code",
   "execution_count": null,
   "metadata": {},
   "outputs": [],
   "source": [
    "#Going Bac to the originl dataset for more analysis"
   ]
  },
  {
   "cell_type": "code",
   "execution_count": 47,
   "metadata": {},
   "outputs": [
    {
     "data": {
      "text/html": [
       "<div>\n",
       "<style scoped>\n",
       "    .dataframe tbody tr th:only-of-type {\n",
       "        vertical-align: middle;\n",
       "    }\n",
       "\n",
       "    .dataframe tbody tr th {\n",
       "        vertical-align: top;\n",
       "    }\n",
       "\n",
       "    .dataframe thead th {\n",
       "        text-align: right;\n",
       "    }\n",
       "</style>\n",
       "<table border=\"1\" class=\"dataframe\">\n",
       "  <thead>\n",
       "    <tr style=\"text-align: right;\">\n",
       "      <th></th>\n",
       "      <th>MCI</th>\n",
       "      <th>premisetype</th>\n",
       "      <th>occurrencemonth</th>\n",
       "      <th>occurrencedayofweek</th>\n",
       "      <th>occurrencehour</th>\n",
       "      <th>Neighbourhood</th>\n",
       "    </tr>\n",
       "  </thead>\n",
       "  <tbody>\n",
       "    <tr>\n",
       "      <td>0</td>\n",
       "      <td>Assault</td>\n",
       "      <td>Commercial</td>\n",
       "      <td>December</td>\n",
       "      <td>Friday</td>\n",
       "      <td>3</td>\n",
       "      <td>University (79)</td>\n",
       "    </tr>\n",
       "    <tr>\n",
       "      <td>1</td>\n",
       "      <td>Assault</td>\n",
       "      <td>Commercial</td>\n",
       "      <td>August</td>\n",
       "      <td>Saturday</td>\n",
       "      <td>21</td>\n",
       "      <td>Tam O'Shanter-Sullivan (118)</td>\n",
       "    </tr>\n",
       "    <tr>\n",
       "      <td>2</td>\n",
       "      <td>Break and Enter</td>\n",
       "      <td>Apartment</td>\n",
       "      <td>August</td>\n",
       "      <td>Sunday</td>\n",
       "      <td>16</td>\n",
       "      <td>Woburn (137)</td>\n",
       "    </tr>\n",
       "    <tr>\n",
       "      <td>3</td>\n",
       "      <td>Break and Enter</td>\n",
       "      <td>Other</td>\n",
       "      <td>November</td>\n",
       "      <td>Thursday</td>\n",
       "      <td>13</td>\n",
       "      <td>Centennial Scarborough (133)</td>\n",
       "    </tr>\n",
       "    <tr>\n",
       "      <td>4</td>\n",
       "      <td>Assault</td>\n",
       "      <td>Commercial</td>\n",
       "      <td>December</td>\n",
       "      <td>Friday</td>\n",
       "      <td>19</td>\n",
       "      <td>Taylor-Massey (61)</td>\n",
       "    </tr>\n",
       "  </tbody>\n",
       "</table>\n",
       "</div>"
      ],
      "text/plain": [
       "               MCI premisetype occurrencemonth occurrencedayofweek  \\\n",
       "0          Assault  Commercial        December          Friday       \n",
       "1          Assault  Commercial          August          Saturday     \n",
       "2  Break and Enter   Apartment          August          Sunday       \n",
       "3  Break and Enter       Other        November          Thursday     \n",
       "4          Assault  Commercial        December          Friday       \n",
       "\n",
       "   occurrencehour                 Neighbourhood  \n",
       "0               3               University (79)  \n",
       "1              21  Tam O'Shanter-Sullivan (118)  \n",
       "2              16                  Woburn (137)  \n",
       "3              13  Centennial Scarborough (133)  \n",
       "4              19            Taylor-Massey (61)  "
      ]
     },
     "execution_count": 47,
     "metadata": {},
     "output_type": "execute_result"
    }
   ],
   "source": [
    "data_org.head()"
   ]
  },
  {
   "cell_type": "code",
   "execution_count": 58,
   "metadata": {},
   "outputs": [
    {
     "data": {
      "text/plain": [
       "array(['Assault', 'Break and Enter', 'Robbery', 'Theft Over',\n",
       "       'Auto Theft'], dtype=object)"
      ]
     },
     "execution_count": 58,
     "metadata": {},
     "output_type": "execute_result"
    }
   ],
   "source": [
    "data_org['MCI'].unique()"
   ]
  },
  {
   "cell_type": "code",
   "execution_count": 13,
   "metadata": {},
   "outputs": [
    {
     "data": {
      "text/html": [
       "<div>\n",
       "<style scoped>\n",
       "    .dataframe tbody tr th:only-of-type {\n",
       "        vertical-align: middle;\n",
       "    }\n",
       "\n",
       "    .dataframe tbody tr th {\n",
       "        vertical-align: top;\n",
       "    }\n",
       "\n",
       "    .dataframe thead th {\n",
       "        text-align: right;\n",
       "    }\n",
       "</style>\n",
       "<table border=\"1\" class=\"dataframe\">\n",
       "  <thead>\n",
       "    <tr style=\"text-align: right;\">\n",
       "      <th></th>\n",
       "      <th>MCI</th>\n",
       "      <th>premisetype</th>\n",
       "      <th>occurrencemonth</th>\n",
       "      <th>occurrencedayofweek</th>\n",
       "      <th>occurrencehour</th>\n",
       "      <th>Neighbourhood</th>\n",
       "    </tr>\n",
       "  </thead>\n",
       "  <tbody>\n",
       "    <tr>\n",
       "      <td>0</td>\n",
       "      <td>Assault</td>\n",
       "      <td>Commercial</td>\n",
       "      <td>December</td>\n",
       "      <td>Friday</td>\n",
       "      <td>3</td>\n",
       "      <td>University (79)</td>\n",
       "    </tr>\n",
       "    <tr>\n",
       "      <td>1</td>\n",
       "      <td>Assault</td>\n",
       "      <td>Commercial</td>\n",
       "      <td>August</td>\n",
       "      <td>Saturday</td>\n",
       "      <td>21</td>\n",
       "      <td>Tam O'Shanter-Sullivan (118)</td>\n",
       "    </tr>\n",
       "    <tr>\n",
       "      <td>2</td>\n",
       "      <td>Break and Enter</td>\n",
       "      <td>Apartment</td>\n",
       "      <td>August</td>\n",
       "      <td>Sunday</td>\n",
       "      <td>16</td>\n",
       "      <td>Woburn (137)</td>\n",
       "    </tr>\n",
       "    <tr>\n",
       "      <td>3</td>\n",
       "      <td>Break and Enter</td>\n",
       "      <td>Other</td>\n",
       "      <td>November</td>\n",
       "      <td>Thursday</td>\n",
       "      <td>13</td>\n",
       "      <td>Centennial Scarborough (133)</td>\n",
       "    </tr>\n",
       "    <tr>\n",
       "      <td>4</td>\n",
       "      <td>Assault</td>\n",
       "      <td>Commercial</td>\n",
       "      <td>December</td>\n",
       "      <td>Friday</td>\n",
       "      <td>19</td>\n",
       "      <td>Taylor-Massey (61)</td>\n",
       "    </tr>\n",
       "  </tbody>\n",
       "</table>\n",
       "</div>"
      ],
      "text/plain": [
       "               MCI premisetype occurrencemonth occurrencedayofweek  \\\n",
       "0          Assault  Commercial        December          Friday       \n",
       "1          Assault  Commercial          August          Saturday     \n",
       "2  Break and Enter   Apartment          August          Sunday       \n",
       "3  Break and Enter       Other        November          Thursday     \n",
       "4          Assault  Commercial        December          Friday       \n",
       "\n",
       "   occurrencehour                 Neighbourhood  \n",
       "0               3               University (79)  \n",
       "1              21  Tam O'Shanter-Sullivan (118)  \n",
       "2              16                  Woburn (137)  \n",
       "3              13  Centennial Scarborough (133)  \n",
       "4              19            Taylor-Massey (61)  "
      ]
     },
     "execution_count": 13,
     "metadata": {},
     "output_type": "execute_result"
    }
   ],
   "source": [
    "data_org.head()"
   ]
  },
  {
   "cell_type": "code",
   "execution_count": null,
   "metadata": {},
   "outputs": [],
   "source": [
    "#SCALING"
   ]
  },
  {
   "cell_type": "code",
   "execution_count": 12,
   "metadata": {},
   "outputs": [
    {
     "data": {
      "text/html": [
       "<div>\n",
       "<style scoped>\n",
       "    .dataframe tbody tr th:only-of-type {\n",
       "        vertical-align: middle;\n",
       "    }\n",
       "\n",
       "    .dataframe tbody tr th {\n",
       "        vertical-align: top;\n",
       "    }\n",
       "\n",
       "    .dataframe thead th {\n",
       "        text-align: right;\n",
       "    }\n",
       "</style>\n",
       "<table border=\"1\" class=\"dataframe\">\n",
       "  <thead>\n",
       "    <tr style=\"text-align: right;\">\n",
       "      <th></th>\n",
       "      <th>MCI</th>\n",
       "      <th>premisetype</th>\n",
       "      <th>occurrencemonth</th>\n",
       "      <th>occurrencedayofweek</th>\n",
       "      <th>occurrencehour</th>\n",
       "      <th>Neighbourhood</th>\n",
       "    </tr>\n",
       "  </thead>\n",
       "  <tbody>\n",
       "    <tr>\n",
       "      <th>0</th>\n",
       "      <td>Assault</td>\n",
       "      <td>Commercial</td>\n",
       "      <td>December</td>\n",
       "      <td>Friday</td>\n",
       "      <td>3</td>\n",
       "      <td>University (79)</td>\n",
       "    </tr>\n",
       "    <tr>\n",
       "      <th>1</th>\n",
       "      <td>Assault</td>\n",
       "      <td>Commercial</td>\n",
       "      <td>August</td>\n",
       "      <td>Saturday</td>\n",
       "      <td>21</td>\n",
       "      <td>Tam O'Shanter-Sullivan (118)</td>\n",
       "    </tr>\n",
       "    <tr>\n",
       "      <th>2</th>\n",
       "      <td>Break and Enter</td>\n",
       "      <td>Apartment</td>\n",
       "      <td>August</td>\n",
       "      <td>Sunday</td>\n",
       "      <td>16</td>\n",
       "      <td>Woburn (137)</td>\n",
       "    </tr>\n",
       "    <tr>\n",
       "      <th>3</th>\n",
       "      <td>Break and Enter</td>\n",
       "      <td>Other</td>\n",
       "      <td>November</td>\n",
       "      <td>Thursday</td>\n",
       "      <td>13</td>\n",
       "      <td>Centennial Scarborough (133)</td>\n",
       "    </tr>\n",
       "    <tr>\n",
       "      <th>4</th>\n",
       "      <td>Assault</td>\n",
       "      <td>Commercial</td>\n",
       "      <td>December</td>\n",
       "      <td>Friday</td>\n",
       "      <td>19</td>\n",
       "      <td>Taylor-Massey (61)</td>\n",
       "    </tr>\n",
       "  </tbody>\n",
       "</table>\n",
       "</div>"
      ],
      "text/plain": [
       "               MCI premisetype occurrencemonth occurrencedayofweek  \\\n",
       "0          Assault  Commercial        December          Friday       \n",
       "1          Assault  Commercial          August          Saturday     \n",
       "2  Break and Enter   Apartment          August          Sunday       \n",
       "3  Break and Enter       Other        November          Thursday     \n",
       "4          Assault  Commercial        December          Friday       \n",
       "\n",
       "   occurrencehour                 Neighbourhood  \n",
       "0               3               University (79)  \n",
       "1              21  Tam O'Shanter-Sullivan (118)  \n",
       "2              16                  Woburn (137)  \n",
       "3              13  Centennial Scarborough (133)  \n",
       "4              19            Taylor-Massey (61)  "
      ]
     },
     "execution_count": 12,
     "metadata": {},
     "output_type": "execute_result"
    }
   ],
   "source": [
    "data_org.head()"
   ]
  },
  {
   "cell_type": "code",
   "execution_count": 16,
   "metadata": {},
   "outputs": [],
   "source": [
    "y=data_org['MCI']"
   ]
  },
  {
   "cell_type": "code",
   "execution_count": 21,
   "metadata": {},
   "outputs": [],
   "source": [
    "data_org_=data_org.drop(['MCI'],axis=1)"
   ]
  },
  {
   "cell_type": "code",
   "execution_count": 22,
   "metadata": {},
   "outputs": [
    {
     "data": {
      "text/html": [
       "<div>\n",
       "<style scoped>\n",
       "    .dataframe tbody tr th:only-of-type {\n",
       "        vertical-align: middle;\n",
       "    }\n",
       "\n",
       "    .dataframe tbody tr th {\n",
       "        vertical-align: top;\n",
       "    }\n",
       "\n",
       "    .dataframe thead th {\n",
       "        text-align: right;\n",
       "    }\n",
       "</style>\n",
       "<table border=\"1\" class=\"dataframe\">\n",
       "  <thead>\n",
       "    <tr style=\"text-align: right;\">\n",
       "      <th></th>\n",
       "      <th>premisetype</th>\n",
       "      <th>occurrencemonth</th>\n",
       "      <th>occurrencedayofweek</th>\n",
       "      <th>occurrencehour</th>\n",
       "      <th>Neighbourhood</th>\n",
       "    </tr>\n",
       "  </thead>\n",
       "  <tbody>\n",
       "    <tr>\n",
       "      <th>0</th>\n",
       "      <td>Commercial</td>\n",
       "      <td>December</td>\n",
       "      <td>Friday</td>\n",
       "      <td>3</td>\n",
       "      <td>University (79)</td>\n",
       "    </tr>\n",
       "    <tr>\n",
       "      <th>1</th>\n",
       "      <td>Commercial</td>\n",
       "      <td>August</td>\n",
       "      <td>Saturday</td>\n",
       "      <td>21</td>\n",
       "      <td>Tam O'Shanter-Sullivan (118)</td>\n",
       "    </tr>\n",
       "    <tr>\n",
       "      <th>2</th>\n",
       "      <td>Apartment</td>\n",
       "      <td>August</td>\n",
       "      <td>Sunday</td>\n",
       "      <td>16</td>\n",
       "      <td>Woburn (137)</td>\n",
       "    </tr>\n",
       "    <tr>\n",
       "      <th>3</th>\n",
       "      <td>Other</td>\n",
       "      <td>November</td>\n",
       "      <td>Thursday</td>\n",
       "      <td>13</td>\n",
       "      <td>Centennial Scarborough (133)</td>\n",
       "    </tr>\n",
       "    <tr>\n",
       "      <th>4</th>\n",
       "      <td>Commercial</td>\n",
       "      <td>December</td>\n",
       "      <td>Friday</td>\n",
       "      <td>19</td>\n",
       "      <td>Taylor-Massey (61)</td>\n",
       "    </tr>\n",
       "  </tbody>\n",
       "</table>\n",
       "</div>"
      ],
      "text/plain": [
       "  premisetype occurrencemonth occurrencedayofweek  occurrencehour  \\\n",
       "0  Commercial        December          Friday                   3   \n",
       "1  Commercial          August          Saturday                21   \n",
       "2   Apartment          August          Sunday                  16   \n",
       "3       Other        November          Thursday                13   \n",
       "4  Commercial        December          Friday                  19   \n",
       "\n",
       "                  Neighbourhood  \n",
       "0               University (79)  \n",
       "1  Tam O'Shanter-Sullivan (118)  \n",
       "2                  Woburn (137)  \n",
       "3  Centennial Scarborough (133)  \n",
       "4            Taylor-Massey (61)  "
      ]
     },
     "execution_count": 22,
     "metadata": {},
     "output_type": "execute_result"
    }
   ],
   "source": [
    "data_org_.head()"
   ]
  },
  {
   "cell_type": "code",
   "execution_count": 23,
   "metadata": {},
   "outputs": [],
   "source": [
    "data_org_=pd.get_dummies(data_org_)"
   ]
  },
  {
   "cell_type": "code",
   "execution_count": 24,
   "metadata": {},
   "outputs": [
    {
     "name": "stdout",
     "output_type": "stream",
     "text": [
      "MinMaxScaler(copy=True, feature_range=(0, 1))\n"
     ]
    }
   ],
   "source": [
    "from sklearn.preprocessing import MinMaxScaler\n",
    "scaler = MinMaxScaler()\n",
    "print(scaler.fit(data_org_))"
   ]
  },
  {
   "cell_type": "code",
   "execution_count": 25,
   "metadata": {},
   "outputs": [
    {
     "data": {
      "text/html": [
       "<div>\n",
       "<style scoped>\n",
       "    .dataframe tbody tr th:only-of-type {\n",
       "        vertical-align: middle;\n",
       "    }\n",
       "\n",
       "    .dataframe tbody tr th {\n",
       "        vertical-align: top;\n",
       "    }\n",
       "\n",
       "    .dataframe thead th {\n",
       "        text-align: right;\n",
       "    }\n",
       "</style>\n",
       "<table border=\"1\" class=\"dataframe\">\n",
       "  <thead>\n",
       "    <tr style=\"text-align: right;\">\n",
       "      <th></th>\n",
       "      <th>occurrencehour</th>\n",
       "      <th>premisetype_Apartment</th>\n",
       "      <th>premisetype_Commercial</th>\n",
       "      <th>premisetype_House</th>\n",
       "      <th>premisetype_Other</th>\n",
       "      <th>premisetype_Outside</th>\n",
       "      <th>occurrencemonth_April</th>\n",
       "      <th>occurrencemonth_August</th>\n",
       "      <th>occurrencemonth_December</th>\n",
       "      <th>occurrencemonth_February</th>\n",
       "      <th>...</th>\n",
       "      <th>Neighbourhood_Willowdale West (37)</th>\n",
       "      <th>Neighbourhood_Willowridge-Martingrove-Richview (7)</th>\n",
       "      <th>Neighbourhood_Woburn (137)</th>\n",
       "      <th>Neighbourhood_Woodbine Corridor (64)</th>\n",
       "      <th>Neighbourhood_Woodbine-Lumsden (60)</th>\n",
       "      <th>Neighbourhood_Wychwood (94)</th>\n",
       "      <th>Neighbourhood_Yonge-Eglinton (100)</th>\n",
       "      <th>Neighbourhood_Yonge-St.Clair (97)</th>\n",
       "      <th>Neighbourhood_York University Heights (27)</th>\n",
       "      <th>Neighbourhood_Yorkdale-Glen Park (31)</th>\n",
       "    </tr>\n",
       "  </thead>\n",
       "  <tbody>\n",
       "    <tr>\n",
       "      <th>0</th>\n",
       "      <td>3</td>\n",
       "      <td>0</td>\n",
       "      <td>1</td>\n",
       "      <td>0</td>\n",
       "      <td>0</td>\n",
       "      <td>0</td>\n",
       "      <td>0</td>\n",
       "      <td>0</td>\n",
       "      <td>1</td>\n",
       "      <td>0</td>\n",
       "      <td>...</td>\n",
       "      <td>0</td>\n",
       "      <td>0</td>\n",
       "      <td>0</td>\n",
       "      <td>0</td>\n",
       "      <td>0</td>\n",
       "      <td>0</td>\n",
       "      <td>0</td>\n",
       "      <td>0</td>\n",
       "      <td>0</td>\n",
       "      <td>0</td>\n",
       "    </tr>\n",
       "    <tr>\n",
       "      <th>1</th>\n",
       "      <td>21</td>\n",
       "      <td>0</td>\n",
       "      <td>1</td>\n",
       "      <td>0</td>\n",
       "      <td>0</td>\n",
       "      <td>0</td>\n",
       "      <td>0</td>\n",
       "      <td>1</td>\n",
       "      <td>0</td>\n",
       "      <td>0</td>\n",
       "      <td>...</td>\n",
       "      <td>0</td>\n",
       "      <td>0</td>\n",
       "      <td>0</td>\n",
       "      <td>0</td>\n",
       "      <td>0</td>\n",
       "      <td>0</td>\n",
       "      <td>0</td>\n",
       "      <td>0</td>\n",
       "      <td>0</td>\n",
       "      <td>0</td>\n",
       "    </tr>\n",
       "    <tr>\n",
       "      <th>2</th>\n",
       "      <td>16</td>\n",
       "      <td>1</td>\n",
       "      <td>0</td>\n",
       "      <td>0</td>\n",
       "      <td>0</td>\n",
       "      <td>0</td>\n",
       "      <td>0</td>\n",
       "      <td>1</td>\n",
       "      <td>0</td>\n",
       "      <td>0</td>\n",
       "      <td>...</td>\n",
       "      <td>0</td>\n",
       "      <td>0</td>\n",
       "      <td>1</td>\n",
       "      <td>0</td>\n",
       "      <td>0</td>\n",
       "      <td>0</td>\n",
       "      <td>0</td>\n",
       "      <td>0</td>\n",
       "      <td>0</td>\n",
       "      <td>0</td>\n",
       "    </tr>\n",
       "    <tr>\n",
       "      <th>3</th>\n",
       "      <td>13</td>\n",
       "      <td>0</td>\n",
       "      <td>0</td>\n",
       "      <td>0</td>\n",
       "      <td>1</td>\n",
       "      <td>0</td>\n",
       "      <td>0</td>\n",
       "      <td>0</td>\n",
       "      <td>0</td>\n",
       "      <td>0</td>\n",
       "      <td>...</td>\n",
       "      <td>0</td>\n",
       "      <td>0</td>\n",
       "      <td>0</td>\n",
       "      <td>0</td>\n",
       "      <td>0</td>\n",
       "      <td>0</td>\n",
       "      <td>0</td>\n",
       "      <td>0</td>\n",
       "      <td>0</td>\n",
       "      <td>0</td>\n",
       "    </tr>\n",
       "    <tr>\n",
       "      <th>4</th>\n",
       "      <td>19</td>\n",
       "      <td>0</td>\n",
       "      <td>1</td>\n",
       "      <td>0</td>\n",
       "      <td>0</td>\n",
       "      <td>0</td>\n",
       "      <td>0</td>\n",
       "      <td>0</td>\n",
       "      <td>1</td>\n",
       "      <td>0</td>\n",
       "      <td>...</td>\n",
       "      <td>0</td>\n",
       "      <td>0</td>\n",
       "      <td>0</td>\n",
       "      <td>0</td>\n",
       "      <td>0</td>\n",
       "      <td>0</td>\n",
       "      <td>0</td>\n",
       "      <td>0</td>\n",
       "      <td>0</td>\n",
       "      <td>0</td>\n",
       "    </tr>\n",
       "  </tbody>\n",
       "</table>\n",
       "<p>5 rows × 165 columns</p>\n",
       "</div>"
      ],
      "text/plain": [
       "   occurrencehour  premisetype_Apartment  premisetype_Commercial  \\\n",
       "0               3                      0                       1   \n",
       "1              21                      0                       1   \n",
       "2              16                      1                       0   \n",
       "3              13                      0                       0   \n",
       "4              19                      0                       1   \n",
       "\n",
       "   premisetype_House  premisetype_Other  premisetype_Outside  \\\n",
       "0                  0                  0                    0   \n",
       "1                  0                  0                    0   \n",
       "2                  0                  0                    0   \n",
       "3                  0                  1                    0   \n",
       "4                  0                  0                    0   \n",
       "\n",
       "   occurrencemonth_April  occurrencemonth_August  occurrencemonth_December  \\\n",
       "0                      0                       0                         1   \n",
       "1                      0                       1                         0   \n",
       "2                      0                       1                         0   \n",
       "3                      0                       0                         0   \n",
       "4                      0                       0                         1   \n",
       "\n",
       "   occurrencemonth_February  ...  Neighbourhood_Willowdale West (37)  \\\n",
       "0                         0  ...                                   0   \n",
       "1                         0  ...                                   0   \n",
       "2                         0  ...                                   0   \n",
       "3                         0  ...                                   0   \n",
       "4                         0  ...                                   0   \n",
       "\n",
       "   Neighbourhood_Willowridge-Martingrove-Richview (7)  \\\n",
       "0                                                  0    \n",
       "1                                                  0    \n",
       "2                                                  0    \n",
       "3                                                  0    \n",
       "4                                                  0    \n",
       "\n",
       "   Neighbourhood_Woburn (137)  Neighbourhood_Woodbine Corridor (64)  \\\n",
       "0                           0                                     0   \n",
       "1                           0                                     0   \n",
       "2                           1                                     0   \n",
       "3                           0                                     0   \n",
       "4                           0                                     0   \n",
       "\n",
       "   Neighbourhood_Woodbine-Lumsden (60)  Neighbourhood_Wychwood (94)  \\\n",
       "0                                    0                            0   \n",
       "1                                    0                            0   \n",
       "2                                    0                            0   \n",
       "3                                    0                            0   \n",
       "4                                    0                            0   \n",
       "\n",
       "   Neighbourhood_Yonge-Eglinton (100)  Neighbourhood_Yonge-St.Clair (97)  \\\n",
       "0                                   0                                  0   \n",
       "1                                   0                                  0   \n",
       "2                                   0                                  0   \n",
       "3                                   0                                  0   \n",
       "4                                   0                                  0   \n",
       "\n",
       "   Neighbourhood_York University Heights (27)  \\\n",
       "0                                           0   \n",
       "1                                           0   \n",
       "2                                           0   \n",
       "3                                           0   \n",
       "4                                           0   \n",
       "\n",
       "   Neighbourhood_Yorkdale-Glen Park (31)  \n",
       "0                                      0  \n",
       "1                                      0  \n",
       "2                                      0  \n",
       "3                                      0  \n",
       "4                                      0  \n",
       "\n",
       "[5 rows x 165 columns]"
      ]
     },
     "execution_count": 25,
     "metadata": {},
     "output_type": "execute_result"
    }
   ],
   "source": [
    "data_org_.head()"
   ]
  },
  {
   "cell_type": "code",
   "execution_count": 27,
   "metadata": {},
   "outputs": [],
   "source": [
    "# Target selection\n",
    "#y = data['MCI']\n",
    "#data = data.drop('MCI',axis = 1)\n",
    "# Features selection\n",
    "X = data_org_[data_org_.columns[:]]  \n",
    "\n",
    "# Split dataset into training set and test set\n",
    "X_train, X_test, y_train, y_test = train_test_split(X, y, test_size=0.3) # 70% training and 30% test"
   ]
  },
  {
   "cell_type": "code",
   "execution_count": 28,
   "metadata": {},
   "outputs": [],
   "source": [
    "clf = RandomForestClassifier(n_estimators=50, max_depth = 25, criterion = 'gini')\n",
    "\n",
    "#Train the model using the training sets.\n",
    "clf.fit(X_train,y_train)\n",
    "\n",
    "y_pred = clf.predict(X_test)\n",
    "y_training = clf.predict(X_train)"
   ]
  },
  {
   "cell_type": "code",
   "execution_count": 29,
   "metadata": {},
   "outputs": [
    {
     "name": "stdout",
     "output_type": "stream",
     "text": [
      "Testing Accuracy: 60.23 %\n",
      "Training Accuracy: 66.19 %\n",
      "\n",
      "Classification report: \n",
      "                  precision    recall  f1-score   support\n",
      "\n",
      "        Assault       0.61      0.91      0.73     33218\n",
      "     Auto Theft       0.57      0.15      0.23      7038\n",
      "Break and Enter       0.59      0.43      0.50     12881\n",
      "        Robbery       0.45      0.04      0.08      6446\n",
      "     Theft Over       0.14      0.01      0.01      2014\n",
      "\n",
      "       accuracy                           0.60     61597\n",
      "      macro avg       0.47      0.31      0.31     61597\n",
      "   weighted avg       0.57      0.60      0.53     61597\n",
      " \n",
      "\n"
     ]
    }
   ],
   "source": [
    "print(\"Testing Accuracy:\", round(metrics.accuracy_score(y_test, y_pred) * 100, 2), \"%\")\n",
    "print(\"Training Accuracy:\", round(metrics.accuracy_score(y_train, y_training)* 100, 2), \"%\\n\")\n",
    "print( 'Classification report: \\n', metrics.classification_report(y_test, y_pred), \"\\n\")"
   ]
  },
  {
   "cell_type": "code",
   "execution_count": null,
   "metadata": {},
   "outputs": [],
   "source": [
    "#Creating models for the top 3 MCI"
   ]
  },
  {
   "cell_type": "code",
   "execution_count": 7,
   "metadata": {},
   "outputs": [
    {
     "data": {
      "text/html": [
       "<div>\n",
       "<style scoped>\n",
       "    .dataframe tbody tr th:only-of-type {\n",
       "        vertical-align: middle;\n",
       "    }\n",
       "\n",
       "    .dataframe tbody tr th {\n",
       "        vertical-align: top;\n",
       "    }\n",
       "\n",
       "    .dataframe thead th {\n",
       "        text-align: right;\n",
       "    }\n",
       "</style>\n",
       "<table border=\"1\" class=\"dataframe\">\n",
       "  <thead>\n",
       "    <tr style=\"text-align: right;\">\n",
       "      <th></th>\n",
       "      <th>MCI</th>\n",
       "      <th>premisetype</th>\n",
       "      <th>occurrencemonth</th>\n",
       "      <th>occurrencedayofweek</th>\n",
       "      <th>occurrencehour</th>\n",
       "      <th>Neighbourhood</th>\n",
       "    </tr>\n",
       "  </thead>\n",
       "  <tbody>\n",
       "    <tr>\n",
       "      <th>0</th>\n",
       "      <td>Assault</td>\n",
       "      <td>Commercial</td>\n",
       "      <td>December</td>\n",
       "      <td>Friday</td>\n",
       "      <td>3</td>\n",
       "      <td>University (79)</td>\n",
       "    </tr>\n",
       "    <tr>\n",
       "      <th>1</th>\n",
       "      <td>Assault</td>\n",
       "      <td>Commercial</td>\n",
       "      <td>August</td>\n",
       "      <td>Saturday</td>\n",
       "      <td>21</td>\n",
       "      <td>Tam O'Shanter-Sullivan (118)</td>\n",
       "    </tr>\n",
       "    <tr>\n",
       "      <th>2</th>\n",
       "      <td>Break and Enter</td>\n",
       "      <td>Apartment</td>\n",
       "      <td>August</td>\n",
       "      <td>Sunday</td>\n",
       "      <td>16</td>\n",
       "      <td>Woburn (137)</td>\n",
       "    </tr>\n",
       "    <tr>\n",
       "      <th>3</th>\n",
       "      <td>Break and Enter</td>\n",
       "      <td>Other</td>\n",
       "      <td>November</td>\n",
       "      <td>Thursday</td>\n",
       "      <td>13</td>\n",
       "      <td>Centennial Scarborough (133)</td>\n",
       "    </tr>\n",
       "    <tr>\n",
       "      <th>4</th>\n",
       "      <td>Assault</td>\n",
       "      <td>Commercial</td>\n",
       "      <td>December</td>\n",
       "      <td>Friday</td>\n",
       "      <td>19</td>\n",
       "      <td>Taylor-Massey (61)</td>\n",
       "    </tr>\n",
       "  </tbody>\n",
       "</table>\n",
       "</div>"
      ],
      "text/plain": [
       "               MCI premisetype occurrencemonth occurrencedayofweek  \\\n",
       "0          Assault  Commercial        December          Friday       \n",
       "1          Assault  Commercial          August          Saturday     \n",
       "2  Break and Enter   Apartment          August          Sunday       \n",
       "3  Break and Enter       Other        November          Thursday     \n",
       "4          Assault  Commercial        December          Friday       \n",
       "\n",
       "   occurrencehour                 Neighbourhood  \n",
       "0               3               University (79)  \n",
       "1              21  Tam O'Shanter-Sullivan (118)  \n",
       "2              16                  Woburn (137)  \n",
       "3              13  Centennial Scarborough (133)  \n",
       "4              19            Taylor-Massey (61)  "
      ]
     },
     "execution_count": 7,
     "metadata": {},
     "output_type": "execute_result"
    }
   ],
   "source": [
    "data_org.head()"
   ]
  },
  {
   "cell_type": "code",
   "execution_count": 13,
   "metadata": {},
   "outputs": [],
   "source": [
    "new_mci=['Assault','Auto Theft','Break and Enter']\n",
    "data_org1=data_org[data_org.MCI.isin(new_mci)]\n",
    "\n",
    "                   "
   ]
  },
  {
   "cell_type": "code",
   "execution_count": 15,
   "metadata": {},
   "outputs": [
    {
     "data": {
      "text/plain": [
       "<bound method NDFrame.describe of                     MCI premisetype occurrencemonth occurrencedayofweek  \\\n",
       "0               Assault  Commercial        December          Friday       \n",
       "1               Assault  Commercial          August          Saturday     \n",
       "2       Break and Enter   Apartment          August          Sunday       \n",
       "3       Break and Enter       Other        November          Thursday     \n",
       "4               Assault  Commercial        December          Friday       \n",
       "...                 ...         ...             ...                 ...   \n",
       "206430       Auto Theft     Outside        February          Thursday     \n",
       "206431       Auto Theft  Commercial        February          Thursday     \n",
       "206432       Auto Theft       House         January          Wednesday    \n",
       "206433       Auto Theft  Commercial        February          Thursday     \n",
       "206434       Auto Theft       House        February          Thursday     \n",
       "\n",
       "        occurrencehour                         Neighbourhood  \n",
       "0                    3                       University (79)  \n",
       "1                   21          Tam O'Shanter-Sullivan (118)  \n",
       "2                   16                          Woburn (137)  \n",
       "3                   13          Centennial Scarborough (133)  \n",
       "4                   19                    Taylor-Massey (61)  \n",
       "...                ...                                   ...  \n",
       "206430              23  Willowridge-Martingrove-Richview (7)  \n",
       "206431               0                  South Riverdale (70)  \n",
       "206432              12            West Humber-Clairville (1)  \n",
       "206433               0                  South Riverdale (70)  \n",
       "206434               8                         Malvern (132)  \n",
       "\n",
       "[177153 rows x 6 columns]>"
      ]
     },
     "execution_count": 15,
     "metadata": {},
     "output_type": "execute_result"
    }
   ],
   "source": [
    "data_org1.describe"
   ]
  },
  {
   "cell_type": "code",
   "execution_count": 17,
   "metadata": {},
   "outputs": [],
   "source": [
    "data = data_org1.copy()\n",
    "# Get one hot encoding of columns premisetype\n",
    "one_hot = pd.get_dummies(data['premisetype'])\n",
    "# Join the encoded df\n",
    "data = data.join(one_hot)\n",
    "\n",
    "# Get one hot encoding of columns occurrencemonth\n",
    "one_hot = pd.get_dummies(data['occurrencemonth'])\n",
    "# Join the encoded df\n",
    "data = data.join(one_hot)\n",
    "\n",
    "# Get one hot encoding of columns occurrencedayofweek\n",
    "one_hot = pd.get_dummies(data['occurrencedayofweek'])\n",
    "# Join the encoded df\n",
    "data = data.join(one_hot)\n",
    "\n",
    "# Get one hot encoding of columns occurrencehour\n",
    "one_hot = pd.get_dummies(data['occurrencehour'])\n",
    "# Join the encoded df\n",
    "data = data.join(one_hot)\n",
    "\n",
    "# Get one hot encoding of columns Neighbourhood\n",
    "one_hot = pd.get_dummies(data['Neighbourhood'])\n",
    "# Join the encoded df\n",
    "data = data.join(one_hot)\n",
    "\n",
    "# Set column Neighbourhood as target\n",
    "data = data.drop('premisetype',axis = 1)\n",
    "data = data.drop('occurrencemonth',axis = 1)\n",
    "data = data.drop('Neighbourhood',axis = 1)\n",
    "data = data.drop('occurrencedayofweek',axis = 1)\n",
    "data = data.drop('occurrencehour',axis = 1)"
   ]
  },
  {
   "cell_type": "code",
   "execution_count": 19,
   "metadata": {},
   "outputs": [],
   "source": [
    "#Target selection\n",
    "y = data['MCI']\n",
    "data = data.drop('MCI',axis = 1)\n",
    "# Features selection\n",
    "X = data[data.columns[:]]  "
   ]
  },
  {
   "cell_type": "code",
   "execution_count": 20,
   "metadata": {},
   "outputs": [],
   "source": [
    "\n",
    "# Split dataset into training set and test set\n",
    "X_train, X_test, y_train, y_test = train_test_split(X, y, test_size=0.3) # 70% training and 30% test"
   ]
  },
  {
   "cell_type": "code",
   "execution_count": 21,
   "metadata": {},
   "outputs": [],
   "source": [
    "clf = RandomForestClassifier(n_estimators=50, max_depth = 25, criterion = 'gini')\n"
   ]
  },
  {
   "cell_type": "code",
   "execution_count": 22,
   "metadata": {},
   "outputs": [],
   "source": [
    "clf = RandomForestClassifier(n_estimators=50, max_depth = 25, criterion = 'gini')\n",
    "\n",
    "#Train the model using the training sets.\n",
    "clf.fit(X_train,y_train)\n",
    "\n",
    "y_pred = clf.predict(X_test)\n",
    "y_training = clf.predict(X_train)"
   ]
  },
  {
   "cell_type": "code",
   "execution_count": 23,
   "metadata": {},
   "outputs": [
    {
     "name": "stdout",
     "output_type": "stream",
     "text": [
      "Testing Accuracy: 69.5 %\n",
      "Training Accuracy: 73.2 %\n",
      "\n",
      "Classification report: \n",
      "                  precision    recall  f1-score   support\n",
      "\n",
      "        Assault       0.71      0.92      0.80     33239\n",
      "     Auto Theft       0.68      0.14      0.24      6920\n",
      "Break and Enter       0.64      0.40      0.50     12987\n",
      "\n",
      "       accuracy                           0.70     53146\n",
      "      macro avg       0.67      0.49      0.51     53146\n",
      "   weighted avg       0.69      0.70      0.65     53146\n",
      " \n",
      "\n"
     ]
    }
   ],
   "source": [
    "print(\"Testing Accuracy:\", round(metrics.accuracy_score(y_test, y_pred) * 100, 2), \"%\")\n",
    "print(\"Training Accuracy:\", round(metrics.accuracy_score(y_train, y_training)* 100, 2), \"%\\n\")\n",
    "print( 'Classification report: \\n', metrics.classification_report(y_test, y_pred), \"\\n\")"
   ]
  },
  {
   "cell_type": "code",
   "execution_count": null,
   "metadata": {},
   "outputs": [],
   "source": [
    "#Logistic REGRESSION"
   ]
  },
  {
   "cell_type": "code",
   "execution_count": 24,
   "metadata": {},
   "outputs": [],
   "source": [
    "from sklearn.linear_model import LogisticRegression"
   ]
  },
  {
   "cell_type": "code",
   "execution_count": 28,
   "metadata": {},
   "outputs": [],
   "source": [
    "logisticRegr = LogisticRegression()\n",
    "clf_log=logisticRegr.fit(X_train, y_train)"
   ]
  },
  {
   "cell_type": "code",
   "execution_count": 29,
   "metadata": {},
   "outputs": [],
   "source": [
    "score = logisticRegr.score(X_test, y_test)\n",
    "y_pred_log = clf_log.predict(X_test)\n",
    "y_training_log = clf.predict(X_train)"
   ]
  },
  {
   "cell_type": "code",
   "execution_count": 30,
   "metadata": {},
   "outputs": [
    {
     "name": "stdout",
     "output_type": "stream",
     "text": [
      "Testing Accuracy: 68.21 %\n",
      "Training Accuracy: 73.2 %\n",
      "\n",
      "Classification report: \n",
      "                  precision    recall  f1-score   support\n",
      "\n",
      "        Assault       0.71      0.88      0.79     33239\n",
      "     Auto Theft       0.57      0.27      0.37      6920\n",
      "Break and Enter       0.58      0.40      0.47     12987\n",
      "\n",
      "       accuracy                           0.68     53146\n",
      "      macro avg       0.62      0.52      0.54     53146\n",
      "   weighted avg       0.66      0.68      0.66     53146\n",
      " \n",
      "\n"
     ]
    }
   ],
   "source": [
    "print(\"Testing Accuracy:\", round(metrics.accuracy_score(y_test, y_pred_log) * 100, 2), \"%\")\n",
    "print(\"Training Accuracy:\", round(metrics.accuracy_score(y_train, y_training_log)* 100, 2), \"%\\n\")\n",
    "print( 'Classification report: \\n', metrics.classification_report(y_test, y_pred_log), \"\\n\")"
   ]
  },
  {
   "cell_type": "code",
   "execution_count": null,
   "metadata": {},
   "outputs": [],
   "source": [
    "#Using LSTM to predict the total crime count per day"
   ]
  },
  {
   "cell_type": "code",
   "execution_count": 51,
   "metadata": {},
   "outputs": [
    {
     "data": {
      "text/html": [
       "<div>\n",
       "<style scoped>\n",
       "    .dataframe tbody tr th:only-of-type {\n",
       "        vertical-align: middle;\n",
       "    }\n",
       "\n",
       "    .dataframe tbody tr th {\n",
       "        vertical-align: top;\n",
       "    }\n",
       "\n",
       "    .dataframe thead th {\n",
       "        text-align: right;\n",
       "    }\n",
       "</style>\n",
       "<table border=\"1\" class=\"dataframe\">\n",
       "  <thead>\n",
       "    <tr style=\"text-align: right;\">\n",
       "      <th></th>\n",
       "      <th>occurrenceyear</th>\n",
       "      <th>occurrencemonth</th>\n",
       "      <th>occurrenceday</th>\n",
       "      <th>occurrencedayofyear</th>\n",
       "      <th>MCI</th>\n",
       "    </tr>\n",
       "  </thead>\n",
       "  <tbody>\n",
       "    <tr>\n",
       "      <th>0</th>\n",
       "      <td>2015.0</td>\n",
       "      <td>December</td>\n",
       "      <td>18.0</td>\n",
       "      <td>352.0</td>\n",
       "      <td>Assault</td>\n",
       "    </tr>\n",
       "    <tr>\n",
       "      <th>1</th>\n",
       "      <td>2015.0</td>\n",
       "      <td>August</td>\n",
       "      <td>15.0</td>\n",
       "      <td>227.0</td>\n",
       "      <td>Assault</td>\n",
       "    </tr>\n",
       "    <tr>\n",
       "      <th>2</th>\n",
       "      <td>2015.0</td>\n",
       "      <td>August</td>\n",
       "      <td>16.0</td>\n",
       "      <td>228.0</td>\n",
       "      <td>Break and Enter</td>\n",
       "    </tr>\n",
       "    <tr>\n",
       "      <th>3</th>\n",
       "      <td>2015.0</td>\n",
       "      <td>November</td>\n",
       "      <td>26.0</td>\n",
       "      <td>330.0</td>\n",
       "      <td>Break and Enter</td>\n",
       "    </tr>\n",
       "    <tr>\n",
       "      <th>4</th>\n",
       "      <td>2015.0</td>\n",
       "      <td>December</td>\n",
       "      <td>18.0</td>\n",
       "      <td>352.0</td>\n",
       "      <td>Assault</td>\n",
       "    </tr>\n",
       "  </tbody>\n",
       "</table>\n",
       "</div>"
      ],
      "text/plain": [
       "   occurrenceyear occurrencemonth  occurrenceday  occurrencedayofyear  \\\n",
       "0          2015.0        December           18.0                352.0   \n",
       "1          2015.0          August           15.0                227.0   \n",
       "2          2015.0          August           16.0                228.0   \n",
       "3          2015.0        November           26.0                330.0   \n",
       "4          2015.0        December           18.0                352.0   \n",
       "\n",
       "               MCI  \n",
       "0          Assault  \n",
       "1          Assault  \n",
       "2  Break and Enter  \n",
       "3  Break and Enter  \n",
       "4          Assault  "
      ]
     },
     "execution_count": 51,
     "metadata": {},
     "output_type": "execute_result"
    }
   ],
   "source": [
    "df_deep = pd.read_csv('MCI_2014_to_2019.csv',sep=',') \n",
    "df_deep = df_deep.drop(df_deep[df_deep['occurrenceyear'] < 2014].index)\n",
    "df_deep = df_deep.iloc[:,[16,17,18,19,22]]\n",
    "df_deep.head()"
   ]
  },
  {
   "cell_type": "code",
   "execution_count": 52,
   "metadata": {},
   "outputs": [],
   "source": [
    "df_deep['month'] = pd.to_datetime(df_deep.occurrencemonth, format='%B').dt.month\n"
   ]
  },
  {
   "cell_type": "code",
   "execution_count": 53,
   "metadata": {},
   "outputs": [],
   "source": [
    "df_deep=df_deep.rename(columns = {'occurrenceyear':'year'})\n",
    "df_deep=df_deep.rename(columns = {'occurrenceday':'day'})"
   ]
  },
  {
   "cell_type": "code",
   "execution_count": 54,
   "metadata": {},
   "outputs": [
    {
     "data": {
      "text/html": [
       "<div>\n",
       "<style scoped>\n",
       "    .dataframe tbody tr th:only-of-type {\n",
       "        vertical-align: middle;\n",
       "    }\n",
       "\n",
       "    .dataframe tbody tr th {\n",
       "        vertical-align: top;\n",
       "    }\n",
       "\n",
       "    .dataframe thead th {\n",
       "        text-align: right;\n",
       "    }\n",
       "</style>\n",
       "<table border=\"1\" class=\"dataframe\">\n",
       "  <thead>\n",
       "    <tr style=\"text-align: right;\">\n",
       "      <th></th>\n",
       "      <th>year</th>\n",
       "      <th>occurrencemonth</th>\n",
       "      <th>day</th>\n",
       "      <th>occurrencedayofyear</th>\n",
       "      <th>MCI</th>\n",
       "      <th>month</th>\n",
       "    </tr>\n",
       "  </thead>\n",
       "  <tbody>\n",
       "    <tr>\n",
       "      <th>0</th>\n",
       "      <td>2015.0</td>\n",
       "      <td>December</td>\n",
       "      <td>18.0</td>\n",
       "      <td>352.0</td>\n",
       "      <td>Assault</td>\n",
       "      <td>12.0</td>\n",
       "    </tr>\n",
       "    <tr>\n",
       "      <th>1</th>\n",
       "      <td>2015.0</td>\n",
       "      <td>August</td>\n",
       "      <td>15.0</td>\n",
       "      <td>227.0</td>\n",
       "      <td>Assault</td>\n",
       "      <td>8.0</td>\n",
       "    </tr>\n",
       "    <tr>\n",
       "      <th>2</th>\n",
       "      <td>2015.0</td>\n",
       "      <td>August</td>\n",
       "      <td>16.0</td>\n",
       "      <td>228.0</td>\n",
       "      <td>Break and Enter</td>\n",
       "      <td>8.0</td>\n",
       "    </tr>\n",
       "    <tr>\n",
       "      <th>3</th>\n",
       "      <td>2015.0</td>\n",
       "      <td>November</td>\n",
       "      <td>26.0</td>\n",
       "      <td>330.0</td>\n",
       "      <td>Break and Enter</td>\n",
       "      <td>11.0</td>\n",
       "    </tr>\n",
       "    <tr>\n",
       "      <th>4</th>\n",
       "      <td>2015.0</td>\n",
       "      <td>December</td>\n",
       "      <td>18.0</td>\n",
       "      <td>352.0</td>\n",
       "      <td>Assault</td>\n",
       "      <td>12.0</td>\n",
       "    </tr>\n",
       "  </tbody>\n",
       "</table>\n",
       "</div>"
      ],
      "text/plain": [
       "     year occurrencemonth   day  occurrencedayofyear              MCI  month\n",
       "0  2015.0        December  18.0                352.0          Assault   12.0\n",
       "1  2015.0          August  15.0                227.0          Assault    8.0\n",
       "2  2015.0          August  16.0                228.0  Break and Enter    8.0\n",
       "3  2015.0        November  26.0                330.0  Break and Enter   11.0\n",
       "4  2015.0        December  18.0                352.0          Assault   12.0"
      ]
     },
     "execution_count": 54,
     "metadata": {},
     "output_type": "execute_result"
    }
   ],
   "source": [
    "df_deep.head()\n"
   ]
  },
  {
   "cell_type": "code",
   "execution_count": 55,
   "metadata": {},
   "outputs": [],
   "source": [
    "df_deep['Date'] = pd.to_datetime(df_deep[['year', 'month']].assign(Day=1))\n"
   ]
  },
  {
   "cell_type": "code",
   "execution_count": 56,
   "metadata": {},
   "outputs": [],
   "source": [
    "\n",
    "df_deep.drop(df_deep.columns[0:4], axis=1, inplace=True)\n",
    "df_deep.drop(df_deep.columns[1], axis=1, inplace=True)"
   ]
  },
  {
   "cell_type": "code",
   "execution_count": 57,
   "metadata": {},
   "outputs": [
    {
     "data": {
      "text/html": [
       "<div>\n",
       "<style scoped>\n",
       "    .dataframe tbody tr th:only-of-type {\n",
       "        vertical-align: middle;\n",
       "    }\n",
       "\n",
       "    .dataframe tbody tr th {\n",
       "        vertical-align: top;\n",
       "    }\n",
       "\n",
       "    .dataframe thead th {\n",
       "        text-align: right;\n",
       "    }\n",
       "</style>\n",
       "<table border=\"1\" class=\"dataframe\">\n",
       "  <thead>\n",
       "    <tr style=\"text-align: right;\">\n",
       "      <th></th>\n",
       "      <th>MCI</th>\n",
       "      <th>Date</th>\n",
       "    </tr>\n",
       "  </thead>\n",
       "  <tbody>\n",
       "    <tr>\n",
       "      <th>0</th>\n",
       "      <td>Assault</td>\n",
       "      <td>2015-12-01</td>\n",
       "    </tr>\n",
       "    <tr>\n",
       "      <th>1</th>\n",
       "      <td>Assault</td>\n",
       "      <td>2015-08-01</td>\n",
       "    </tr>\n",
       "    <tr>\n",
       "      <th>2</th>\n",
       "      <td>Break and Enter</td>\n",
       "      <td>2015-08-01</td>\n",
       "    </tr>\n",
       "    <tr>\n",
       "      <th>3</th>\n",
       "      <td>Break and Enter</td>\n",
       "      <td>2015-11-01</td>\n",
       "    </tr>\n",
       "    <tr>\n",
       "      <th>4</th>\n",
       "      <td>Assault</td>\n",
       "      <td>2015-12-01</td>\n",
       "    </tr>\n",
       "  </tbody>\n",
       "</table>\n",
       "</div>"
      ],
      "text/plain": [
       "               MCI       Date\n",
       "0          Assault 2015-12-01\n",
       "1          Assault 2015-08-01\n",
       "2  Break and Enter 2015-08-01\n",
       "3  Break and Enter 2015-11-01\n",
       "4          Assault 2015-12-01"
      ]
     },
     "execution_count": 57,
     "metadata": {},
     "output_type": "execute_result"
    }
   ],
   "source": [
    "df_deep.head()\n"
   ]
  },
  {
   "cell_type": "code",
   "execution_count": 58,
   "metadata": {},
   "outputs": [],
   "source": [
    "df_deep = df_deep.groupby('Date')['MCI'].value_counts().reset_index(name='FC')\n"
   ]
  },
  {
   "cell_type": "code",
   "execution_count": 59,
   "metadata": {},
   "outputs": [],
   "source": [
    "mci_freq = df_deep.groupby(['Date'], as_index=False)['FC'].sum()\n"
   ]
  },
  {
   "cell_type": "code",
   "execution_count": 60,
   "metadata": {},
   "outputs": [
    {
     "data": {
      "text/html": [
       "<div>\n",
       "<style scoped>\n",
       "    .dataframe tbody tr th:only-of-type {\n",
       "        vertical-align: middle;\n",
       "    }\n",
       "\n",
       "    .dataframe tbody tr th {\n",
       "        vertical-align: top;\n",
       "    }\n",
       "\n",
       "    .dataframe thead th {\n",
       "        text-align: right;\n",
       "    }\n",
       "</style>\n",
       "<table border=\"1\" class=\"dataframe\">\n",
       "  <thead>\n",
       "    <tr style=\"text-align: right;\">\n",
       "      <th></th>\n",
       "      <th>Date</th>\n",
       "      <th>FC</th>\n",
       "    </tr>\n",
       "  </thead>\n",
       "  <tbody>\n",
       "    <tr>\n",
       "      <th>0</th>\n",
       "      <td>2014-01-01</td>\n",
       "      <td>2448</td>\n",
       "    </tr>\n",
       "    <tr>\n",
       "      <th>1</th>\n",
       "      <td>2014-02-01</td>\n",
       "      <td>2203</td>\n",
       "    </tr>\n",
       "    <tr>\n",
       "      <th>2</th>\n",
       "      <td>2014-03-01</td>\n",
       "      <td>2420</td>\n",
       "    </tr>\n",
       "    <tr>\n",
       "      <th>3</th>\n",
       "      <td>2014-04-01</td>\n",
       "      <td>2509</td>\n",
       "    </tr>\n",
       "    <tr>\n",
       "      <th>4</th>\n",
       "      <td>2014-05-01</td>\n",
       "      <td>2856</td>\n",
       "    </tr>\n",
       "  </tbody>\n",
       "</table>\n",
       "</div>"
      ],
      "text/plain": [
       "        Date    FC\n",
       "0 2014-01-01  2448\n",
       "1 2014-02-01  2203\n",
       "2 2014-03-01  2420\n",
       "3 2014-04-01  2509\n",
       "4 2014-05-01  2856"
      ]
     },
     "execution_count": 60,
     "metadata": {},
     "output_type": "execute_result"
    }
   ],
   "source": [
    "mci_freq.head()"
   ]
  },
  {
   "cell_type": "code",
   "execution_count": 74,
   "metadata": {},
   "outputs": [],
   "source": [
    "mci_freq.Date =pd.to_datetime(mci_freq.Date)\n",
    "data = mci_freq.set_index('Date')"
   ]
  },
  {
   "cell_type": "code",
   "execution_count": 75,
   "metadata": {},
   "outputs": [
    {
     "data": {
      "text/html": [
       "<div>\n",
       "<style scoped>\n",
       "    .dataframe tbody tr th:only-of-type {\n",
       "        vertical-align: middle;\n",
       "    }\n",
       "\n",
       "    .dataframe tbody tr th {\n",
       "        vertical-align: top;\n",
       "    }\n",
       "\n",
       "    .dataframe thead th {\n",
       "        text-align: right;\n",
       "    }\n",
       "</style>\n",
       "<table border=\"1\" class=\"dataframe\">\n",
       "  <thead>\n",
       "    <tr style=\"text-align: right;\">\n",
       "      <th></th>\n",
       "      <th>FC</th>\n",
       "    </tr>\n",
       "    <tr>\n",
       "      <th>Date</th>\n",
       "      <th></th>\n",
       "    </tr>\n",
       "  </thead>\n",
       "  <tbody>\n",
       "    <tr>\n",
       "      <th>2014-01-01</th>\n",
       "      <td>2448</td>\n",
       "    </tr>\n",
       "    <tr>\n",
       "      <th>2014-02-01</th>\n",
       "      <td>2203</td>\n",
       "    </tr>\n",
       "    <tr>\n",
       "      <th>2014-03-01</th>\n",
       "      <td>2420</td>\n",
       "    </tr>\n",
       "    <tr>\n",
       "      <th>2014-04-01</th>\n",
       "      <td>2509</td>\n",
       "    </tr>\n",
       "    <tr>\n",
       "      <th>2014-05-01</th>\n",
       "      <td>2856</td>\n",
       "    </tr>\n",
       "  </tbody>\n",
       "</table>\n",
       "</div>"
      ],
      "text/plain": [
       "              FC\n",
       "Date            \n",
       "2014-01-01  2448\n",
       "2014-02-01  2203\n",
       "2014-03-01  2420\n",
       "2014-04-01  2509\n",
       "2014-05-01  2856"
      ]
     },
     "execution_count": 75,
     "metadata": {},
     "output_type": "execute_result"
    }
   ],
   "source": [
    "data.head()"
   ]
  },
  {
   "cell_type": "code",
   "execution_count": 76,
   "metadata": {},
   "outputs": [
    {
     "data": {
      "image/png": "[encoded data removed]",
      "text/plain": [
       "<Figure size 1080x360 with 1 Axes>"
      ]
     },
     "metadata": {
      "needs_background": "light"
     },
     "output_type": "display_data"
    }
   ],
   "source": [
    "# Create a time series plot.\n",
    "plt.figure(figsize = (15, 5))\n",
    "plt.plot(data, label = \"frequency of crimes\")\n",
    "plt.xlabel(\"Date\")\n",
    "plt.ylabel(\"Frequency\")\n",
    "plt.legend()\n",
    "plt.show()"
   ]
  },
  {
   "cell_type": "code",
   "execution_count": 121,
   "metadata": {},
   "outputs": [],
   "source": [
    "train, test = data[:-22],data[-22:]\n"
   ]
  },
  {
   "cell_type": "code",
   "execution_count": 122,
   "metadata": {},
   "outputs": [],
   "source": [
    "from sklearn.preprocessing import MinMaxScaler\n",
    "import pandas as pd\n",
    "import numpy as np\n",
    "import math\n",
    "import matplotlib.pyplot as plt\n",
    "from statsmodels.tools.eval_measures import rmse\n",
    "from keras.preprocessing.sequence import TimeseriesGenerator\n",
    "from keras.models import Sequential\n",
    "from keras.layers import Dense\n",
    "from keras.layers import LSTM\n",
    "from keras.layers import Dropout\n",
    "from sklearn.preprocessing import MinMaxScaler\n",
    "from sklearn.metrics import mean_squared_error\n",
    "import warnings \n",
    "warnings.filterwarnings(\"ignore\")"
   ]
  },
  {
   "cell_type": "code",
   "execution_count": 123,
   "metadata": {},
   "outputs": [],
   "source": [
    "scalar =MinMaxScaler()\n",
    "scalar.fit(train)\n",
    "train = scalar.transform(train)\n",
    "test = scalar.transform(test)"
   ]
  },
  {
   "cell_type": "code",
   "execution_count": 124,
   "metadata": {},
   "outputs": [
    {
     "data": {
      "text/plain": [
       "(50, 1)"
      ]
     },
     "execution_count": 124,
     "metadata": {},
     "output_type": "execute_result"
    }
   ],
   "source": [
    "train.shape"
   ]
  },
  {
   "cell_type": "code",
   "execution_count": 125,
   "metadata": {},
   "outputs": [
    {
     "data": {
      "text/plain": [
       "(22, 1)"
      ]
     },
     "execution_count": 125,
     "metadata": {},
     "output_type": "execute_result"
    }
   ],
   "source": [
    "test.shape"
   ]
  },
  {
   "cell_type": "code",
   "execution_count": 195,
   "metadata": {},
   "outputs": [],
   "source": [
    "n_input =12\n",
    "n_features = 1\n",
    "generator = TimeseriesGenerator(train, train, n_input, batch_size =10)"
   ]
  },
  {
   "cell_type": "code",
   "execution_count": 206,
   "metadata": {},
   "outputs": [],
   "source": [
    "model = Sequential()\n",
    "# Adding the input layer and LSTM layer\n",
    "model.add(LSTM(200, activation= 'relu', input_shape =(n_input, n_features)))\n",
    "model.add(Dropout(0.15))\n",
    "model.add(Dense(1))\n",
    "model.compile(optimizer ='adagrad', loss='mse',metrics=['accuracy'])\n",
    "history=model.fit_generator(generator, epochs =180,verbose=0)"
   ]
  },
  {
   "cell_type": "code",
   "execution_count": 207,
   "metadata": {},
   "outputs": [
    {
     "data": {
      "image/png": "[encoded data removed]",
      "text/plain": [
       "<Figure size 432x288 with 1 Axes>"
      ]
     },
     "metadata": {
      "needs_background": "light"
     },
     "output_type": "display_data"
    }
   ],
   "source": [
    "plt.plot(history.history['accuracy'])\n",
    "plt.title('model accuracy')\n",
    "plt.ylabel('accuracy')\n",
    "plt.xlabel('epoch')\n",
    "plt.legend(['train', 'test'], loc='upper left')\n",
    "plt.show()"
   ]
  },
  {
   "cell_type": "code",
   "execution_count": 208,
   "metadata": {},
   "outputs": [
    {
     "data": {
      "image/png": "[encoded data removed]",
      "text/plain": [
       "<Figure size 432x288 with 1 Axes>"
      ]
     },
     "metadata": {
      "needs_background": "light"
     },
     "output_type": "display_data"
    }
   ],
   "source": [
    "plt.plot(history.history['loss'])\n",
    "plt.title('model loss')\n",
    "plt.ylabel('loss')\n",
    "plt.xlabel('epoch')\n",
    "plt.legend(['train', 'test'], loc='upper left')\n",
    "plt.show()"
   ]
  },
  {
   "cell_type": "code",
   "execution_count": 142,
   "metadata": {},
   "outputs": [],
   "source": [
    "pred_list =[]\n",
    "batch = train[-n_input:].reshape(1, n_input, n_features)\n",
    "for i in range(n_input):\n",
    "    pred_list.append(model.predict(batch)[0])\n",
    "    batch = np.append(batch[:, 1:,:], [[pred_list[i]]], axis=1)"
   ]
  },
  {
   "cell_type": "code",
   "execution_count": 143,
   "metadata": {},
   "outputs": [],
   "source": [
    "df_predict= pd.DataFrame(scalar.inverse_transform(pred_list), index= data[-n_input:].index, columns =['Predictions'])\n"
   ]
  },
  {
   "cell_type": "code",
   "execution_count": 144,
   "metadata": {},
   "outputs": [
    {
     "data": {
      "text/html": [
       "<div>\n",
       "<style scoped>\n",
       "    .dataframe tbody tr th:only-of-type {\n",
       "        vertical-align: middle;\n",
       "    }\n",
       "\n",
       "    .dataframe tbody tr th {\n",
       "        vertical-align: top;\n",
       "    }\n",
       "\n",
       "    .dataframe thead th {\n",
       "        text-align: right;\n",
       "    }\n",
       "</style>\n",
       "<table border=\"1\" class=\"dataframe\">\n",
       "  <thead>\n",
       "    <tr style=\"text-align: right;\">\n",
       "      <th></th>\n",
       "      <th>Predictions</th>\n",
       "    </tr>\n",
       "    <tr>\n",
       "      <th>Date</th>\n",
       "      <th></th>\n",
       "    </tr>\n",
       "  </thead>\n",
       "  <tbody>\n",
       "    <tr>\n",
       "      <th>2019-01-01</th>\n",
       "      <td>2803.013467</td>\n",
       "    </tr>\n",
       "    <tr>\n",
       "      <th>2019-02-01</th>\n",
       "      <td>2957.627928</td>\n",
       "    </tr>\n",
       "    <tr>\n",
       "      <th>2019-03-01</th>\n",
       "      <td>2967.725410</td>\n",
       "    </tr>\n",
       "    <tr>\n",
       "      <th>2019-04-01</th>\n",
       "      <td>3077.388130</td>\n",
       "    </tr>\n",
       "    <tr>\n",
       "      <th>2019-05-01</th>\n",
       "      <td>3297.860816</td>\n",
       "    </tr>\n",
       "    <tr>\n",
       "      <th>2019-06-01</th>\n",
       "      <td>3134.266559</td>\n",
       "    </tr>\n",
       "    <tr>\n",
       "      <th>2019-07-01</th>\n",
       "      <td>3125.522919</td>\n",
       "    </tr>\n",
       "    <tr>\n",
       "      <th>2019-08-01</th>\n",
       "      <td>3220.377346</td>\n",
       "    </tr>\n",
       "    <tr>\n",
       "      <th>2019-09-01</th>\n",
       "      <td>3246.375952</td>\n",
       "    </tr>\n",
       "    <tr>\n",
       "      <th>2019-10-01</th>\n",
       "      <td>3040.581914</td>\n",
       "    </tr>\n",
       "    <tr>\n",
       "      <th>2019-11-01</th>\n",
       "      <td>3156.644533</td>\n",
       "    </tr>\n",
       "    <tr>\n",
       "      <th>2019-12-01</th>\n",
       "      <td>2881.091207</td>\n",
       "    </tr>\n",
       "  </tbody>\n",
       "</table>\n",
       "</div>"
      ],
      "text/plain": [
       "            Predictions\n",
       "Date                   \n",
       "2019-01-01  2803.013467\n",
       "2019-02-01  2957.627928\n",
       "2019-03-01  2967.725410\n",
       "2019-04-01  3077.388130\n",
       "2019-05-01  3297.860816\n",
       "2019-06-01  3134.266559\n",
       "2019-07-01  3125.522919\n",
       "2019-08-01  3220.377346\n",
       "2019-09-01  3246.375952\n",
       "2019-10-01  3040.581914\n",
       "2019-11-01  3156.644533\n",
       "2019-12-01  2881.091207"
      ]
     },
     "execution_count": 144,
     "metadata": {},
     "output_type": "execute_result"
    }
   ],
   "source": [
    "df_predict\n"
   ]
  },
  {
   "cell_type": "code",
   "execution_count": 145,
   "metadata": {},
   "outputs": [],
   "source": [
    "df_test = pd.concat([data, df_predict], axis =1)\n"
   ]
  },
  {
   "cell_type": "code",
   "execution_count": 146,
   "metadata": {},
   "outputs": [
    {
     "data": {
      "text/html": [
       "<div>\n",
       "<style scoped>\n",
       "    .dataframe tbody tr th:only-of-type {\n",
       "        vertical-align: middle;\n",
       "    }\n",
       "\n",
       "    .dataframe tbody tr th {\n",
       "        vertical-align: top;\n",
       "    }\n",
       "\n",
       "    .dataframe thead th {\n",
       "        text-align: right;\n",
       "    }\n",
       "</style>\n",
       "<table border=\"1\" class=\"dataframe\">\n",
       "  <thead>\n",
       "    <tr style=\"text-align: right;\">\n",
       "      <th></th>\n",
       "      <th>FC</th>\n",
       "      <th>Predictions</th>\n",
       "    </tr>\n",
       "    <tr>\n",
       "      <th>Date</th>\n",
       "      <th></th>\n",
       "      <th></th>\n",
       "    </tr>\n",
       "  </thead>\n",
       "  <tbody>\n",
       "    <tr>\n",
       "      <th>2019-08-01</th>\n",
       "      <td>3290</td>\n",
       "      <td>3220.377346</td>\n",
       "    </tr>\n",
       "    <tr>\n",
       "      <th>2019-09-01</th>\n",
       "      <td>3179</td>\n",
       "      <td>3246.375952</td>\n",
       "    </tr>\n",
       "    <tr>\n",
       "      <th>2019-10-01</th>\n",
       "      <td>3474</td>\n",
       "      <td>3040.581914</td>\n",
       "    </tr>\n",
       "    <tr>\n",
       "      <th>2019-11-01</th>\n",
       "      <td>3184</td>\n",
       "      <td>3156.644533</td>\n",
       "    </tr>\n",
       "    <tr>\n",
       "      <th>2019-12-01</th>\n",
       "      <td>2764</td>\n",
       "      <td>2881.091207</td>\n",
       "    </tr>\n",
       "  </tbody>\n",
       "</table>\n",
       "</div>"
      ],
      "text/plain": [
       "              FC  Predictions\n",
       "Date                         \n",
       "2019-08-01  3290  3220.377346\n",
       "2019-09-01  3179  3246.375952\n",
       "2019-10-01  3474  3040.581914\n",
       "2019-11-01  3184  3156.644533\n",
       "2019-12-01  2764  2881.091207"
      ]
     },
     "execution_count": 146,
     "metadata": {},
     "output_type": "execute_result"
    }
   ],
   "source": [
    "df_test.tail()\n"
   ]
  },
  {
   "cell_type": "code",
   "execution_count": 147,
   "metadata": {},
   "outputs": [
    {
     "data": {
      "text/plain": [
       "[<matplotlib.lines.Line2D at 0x7f4ce457b9b0>]"
      ]
     },
     "execution_count": 147,
     "metadata": {},
     "output_type": "execute_result"
    },
    {
     "data": {
      "image/png": "[encoded data removed]",
      "text/plain": [
       "<Figure size 1440x360 with 1 Axes>"
      ]
     },
     "metadata": {
      "needs_background": "light"
     },
     "output_type": "display_data"
    }
   ],
   "source": [
    "plt.figure(figsize=(20,5))\n",
    "plt.plot(df_test.index, df_test['FC'])\n",
    "plt.plot(df_test.index, df_test['Predictions'], color ='r')"
   ]
  },
  {
   "cell_type": "code",
   "execution_count": null,
   "metadata": {},
   "outputs": [],
   "source": [
    "#Running LSTM  using other Optimisers and activation function"
   ]
  },
  {
   "cell_type": "code",
   "execution_count": 200,
   "metadata": {},
   "outputs": [],
   "source": [
    "model = Sequential()\n",
    "# Adding the input layer and LSTM layer\n",
    "model.add(LSTM(200, activation= 'relu', input_shape =(n_input, n_features)))\n",
    "model.add(Dropout(0.15))\n",
    "model.add(Dense(8, activation='relu'))\n",
    "model.add(Dense(1, activation='sigmoid'))\n",
    "model.compile(optimizer ='adam', loss='mse',metrics=['accuracy'])\n",
    "history=model.fit_generator(generator, epochs =180,verbose=0)"
   ]
  },
  {
   "cell_type": "code",
   "execution_count": 201,
   "metadata": {},
   "outputs": [
    {
     "name": "stdout",
     "output_type": "stream",
     "text": [
      "dict_keys(['loss', 'accuracy'])\n"
     ]
    }
   ],
   "source": [
    "print(history.history.keys())"
   ]
  },
  {
   "cell_type": "code",
   "execution_count": 202,
   "metadata": {},
   "outputs": [
    {
     "data": {
      "image/png": "[encoded data removed]",
      "text/plain": [
       "<Figure size 432x288 with 1 Axes>"
      ]
     },
     "metadata": {
      "needs_background": "light"
     },
     "output_type": "display_data"
    }
   ],
   "source": [
    "plt.plot(history.history['accuracy'])\n",
    "plt.title('model accuracy')\n",
    "plt.ylabel('accuracy')\n",
    "plt.xlabel('epoch')\n",
    "plt.legend(['train', 'test'], loc='upper left')\n",
    "plt.show()"
   ]
  },
  {
   "cell_type": "code",
   "execution_count": 203,
   "metadata": {},
   "outputs": [
    {
     "data": {
      "image/png": "[encoded data removed]",
      "text/plain": [
       "<Figure size 432x288 with 1 Axes>"
      ]
     },
     "metadata": {
      "needs_background": "light"
     },
     "output_type": "display_data"
    }
   ],
   "source": [
    "plt.plot(history.history['loss'])\n",
    "plt.title('model loss')\n",
    "plt.ylabel('loss')\n",
    "plt.xlabel('epoch')\n",
    "plt.legend(['train', 'test'], loc='upper left')\n",
    "plt.show()"
   ]
  },
  {
   "cell_type": "code",
   "execution_count": 182,
   "metadata": {},
   "outputs": [],
   "source": [
    "pred_list =[]\n",
    "batch = train[-n_input:].reshape(1, n_input, n_features)\n",
    "for i in range(n_input):\n",
    "    pred_list.append(model.predict(batch)[0])\n",
    "    batch = np.append(batch[:, 1:,:], [[pred_list[i]]], axis=1)"
   ]
  },
  {
   "cell_type": "code",
   "execution_count": 183,
   "metadata": {},
   "outputs": [],
   "source": [
    "df_predict= pd.DataFrame(scalar.inverse_transform(pred_list), index= data[-n_input:].index, columns =['Predictions'])\n"
   ]
  },
  {
   "cell_type": "code",
   "execution_count": 184,
   "metadata": {},
   "outputs": [],
   "source": [
    "df_test = pd.concat([data, df_predict], axis =1)\n"
   ]
  },
  {
   "cell_type": "code",
   "execution_count": 185,
   "metadata": {},
   "outputs": [
    {
     "data": {
      "text/html": [
       "<div>\n",
       "<style scoped>\n",
       "    .dataframe tbody tr th:only-of-type {\n",
       "        vertical-align: middle;\n",
       "    }\n",
       "\n",
       "    .dataframe tbody tr th {\n",
       "        vertical-align: top;\n",
       "    }\n",
       "\n",
       "    .dataframe thead th {\n",
       "        text-align: right;\n",
       "    }\n",
       "</style>\n",
       "<table border=\"1\" class=\"dataframe\">\n",
       "  <thead>\n",
       "    <tr style=\"text-align: right;\">\n",
       "      <th></th>\n",
       "      <th>FC</th>\n",
       "      <th>Predictions</th>\n",
       "    </tr>\n",
       "    <tr>\n",
       "      <th>Date</th>\n",
       "      <th></th>\n",
       "      <th></th>\n",
       "    </tr>\n",
       "  </thead>\n",
       "  <tbody>\n",
       "    <tr>\n",
       "      <th>2019-08-01</th>\n",
       "      <td>3290</td>\n",
       "      <td>3045.460016</td>\n",
       "    </tr>\n",
       "    <tr>\n",
       "      <th>2019-09-01</th>\n",
       "      <td>3179</td>\n",
       "      <td>3048.222913</td>\n",
       "    </tr>\n",
       "    <tr>\n",
       "      <th>2019-10-01</th>\n",
       "      <td>3474</td>\n",
       "      <td>2989.148218</td>\n",
       "    </tr>\n",
       "    <tr>\n",
       "      <th>2019-11-01</th>\n",
       "      <td>3184</td>\n",
       "      <td>3020.105125</td>\n",
       "    </tr>\n",
       "    <tr>\n",
       "      <th>2019-12-01</th>\n",
       "      <td>2764</td>\n",
       "      <td>2910.036571</td>\n",
       "    </tr>\n",
       "  </tbody>\n",
       "</table>\n",
       "</div>"
      ],
      "text/plain": [
       "              FC  Predictions\n",
       "Date                         \n",
       "2019-08-01  3290  3045.460016\n",
       "2019-09-01  3179  3048.222913\n",
       "2019-10-01  3474  2989.148218\n",
       "2019-11-01  3184  3020.105125\n",
       "2019-12-01  2764  2910.036571"
      ]
     },
     "execution_count": 185,
     "metadata": {},
     "output_type": "execute_result"
    }
   ],
   "source": [
    "df_test.tail()\n"
   ]
  },
  {
   "cell_type": "code",
   "execution_count": 186,
   "metadata": {},
   "outputs": [
    {
     "data": {
      "text/plain": [
       "[<matplotlib.lines.Line2D at 0x7f4cae043898>]"
      ]
     },
     "execution_count": 186,
     "metadata": {},
     "output_type": "execute_result"
    },
    {
     "data": {
      "image/png": "[encoded data removed]",
      "text/plain": [
       "<Figure size 1440x360 with 1 Axes>"
      ]
     },
     "metadata": {
      "needs_background": "light"
     },
     "output_type": "display_data"
    }
   ],
   "source": [
    "plt.figure(figsize=(20,5))\n",
    "plt.plot(df_test.index, df_test['FC'])\n",
    "plt.plot(df_test.index, df_test['Predictions'], color ='r')"
   ]
  },
  {
   "cell_type": "code",
   "execution_count": null,
   "metadata": {},
   "outputs": [],
   "source": [
    "#Running k-fold on the data"
   ]
  },
  {
   "cell_type": "code",
   "execution_count": 209,
   "metadata": {},
   "outputs": [
    {
     "data": {
      "text/html": [
       "<div>\n",
       "<style scoped>\n",
       "    .dataframe tbody tr th:only-of-type {\n",
       "        vertical-align: middle;\n",
       "    }\n",
       "\n",
       "    .dataframe tbody tr th {\n",
       "        vertical-align: top;\n",
       "    }\n",
       "\n",
       "    .dataframe thead th {\n",
       "        text-align: right;\n",
       "    }\n",
       "</style>\n",
       "<table border=\"1\" class=\"dataframe\">\n",
       "  <thead>\n",
       "    <tr style=\"text-align: right;\">\n",
       "      <th></th>\n",
       "      <th>FC</th>\n",
       "    </tr>\n",
       "    <tr>\n",
       "      <th>Date</th>\n",
       "      <th></th>\n",
       "    </tr>\n",
       "  </thead>\n",
       "  <tbody>\n",
       "    <tr>\n",
       "      <th>2014-01-01</th>\n",
       "      <td>2448</td>\n",
       "    </tr>\n",
       "    <tr>\n",
       "      <th>2014-02-01</th>\n",
       "      <td>2203</td>\n",
       "    </tr>\n",
       "    <tr>\n",
       "      <th>2014-03-01</th>\n",
       "      <td>2420</td>\n",
       "    </tr>\n",
       "    <tr>\n",
       "      <th>2014-04-01</th>\n",
       "      <td>2509</td>\n",
       "    </tr>\n",
       "    <tr>\n",
       "      <th>2014-05-01</th>\n",
       "      <td>2856</td>\n",
       "    </tr>\n",
       "  </tbody>\n",
       "</table>\n",
       "</div>"
      ],
      "text/plain": [
       "              FC\n",
       "Date            \n",
       "2014-01-01  2448\n",
       "2014-02-01  2203\n",
       "2014-03-01  2420\n",
       "2014-04-01  2509\n",
       "2014-05-01  2856"
      ]
     },
     "execution_count": 209,
     "metadata": {},
     "output_type": "execute_result"
    }
   ],
   "source": [
    "data.head()"
   ]
  },
  {
   "cell_type": "code",
   "execution_count": null,
   "metadata": {},
   "outputs": [],
   "source": []
  }
 ],
 "metadata": {
  "kernelspec": {
   "display_name": "Python 3",
   "language": "python",
   "name": "python3"
  },
  "language_info": {
   "codemirror_mode": {
    "name": "ipython",
    "version": 3
   },
   "file_extension": ".py",
   "mimetype": "text/x-python",
   "name": "python",
   "nbconvert_exporter": "python",
   "pygments_lexer": "ipython3",
   "version": "3.6.9"
  }
 },
 "nbformat": 4,
 "nbformat_minor": 2
}
