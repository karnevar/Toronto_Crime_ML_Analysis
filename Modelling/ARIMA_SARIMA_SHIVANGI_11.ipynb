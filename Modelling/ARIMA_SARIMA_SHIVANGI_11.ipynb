{
 "cells": [
  {
   "cell_type": "markdown",
   "metadata": {},
   "source": [
    "#Prediction using ARIMA Time Series Model"
   ]
  },
  {
   "cell_type": "code",
   "execution_count": 1,
   "metadata": {},
   "outputs": [],
   "source": [
    "# Import libraries\n",
    "import pandas as pd\n",
    "import numpy as np\n",
    "import matplotlib.pyplot as plt\n",
    "import warnings \n",
    "warnings.filterwarnings(\"ignore\")"
   ]
  },
  {
   "cell_type": "code",
   "execution_count": 2,
   "metadata": {},
   "outputs": [
    {
     "data": {
      "text/html": [
       "<div>\n",
       "<style scoped>\n",
       "    .dataframe tbody tr th:only-of-type {\n",
       "        vertical-align: middle;\n",
       "    }\n",
       "\n",
       "    .dataframe tbody tr th {\n",
       "        vertical-align: top;\n",
       "    }\n",
       "\n",
       "    .dataframe thead th {\n",
       "        text-align: right;\n",
       "    }\n",
       "</style>\n",
       "<table border=\"1\" class=\"dataframe\">\n",
       "  <thead>\n",
       "    <tr style=\"text-align: right;\">\n",
       "      <th></th>\n",
       "      <th>occurrenceyear</th>\n",
       "      <th>occurrencemonth</th>\n",
       "      <th>occurrenceday</th>\n",
       "      <th>occurrencedayofyear</th>\n",
       "      <th>MCI</th>\n",
       "    </tr>\n",
       "  </thead>\n",
       "  <tbody>\n",
       "    <tr>\n",
       "      <th>0</th>\n",
       "      <td>2015.0</td>\n",
       "      <td>December</td>\n",
       "      <td>18.0</td>\n",
       "      <td>352.0</td>\n",
       "      <td>Assault</td>\n",
       "    </tr>\n",
       "    <tr>\n",
       "      <th>1</th>\n",
       "      <td>2015.0</td>\n",
       "      <td>August</td>\n",
       "      <td>15.0</td>\n",
       "      <td>227.0</td>\n",
       "      <td>Assault</td>\n",
       "    </tr>\n",
       "    <tr>\n",
       "      <th>2</th>\n",
       "      <td>2015.0</td>\n",
       "      <td>August</td>\n",
       "      <td>16.0</td>\n",
       "      <td>228.0</td>\n",
       "      <td>Break and Enter</td>\n",
       "    </tr>\n",
       "    <tr>\n",
       "      <th>3</th>\n",
       "      <td>2015.0</td>\n",
       "      <td>November</td>\n",
       "      <td>26.0</td>\n",
       "      <td>330.0</td>\n",
       "      <td>Break and Enter</td>\n",
       "    </tr>\n",
       "    <tr>\n",
       "      <th>4</th>\n",
       "      <td>2015.0</td>\n",
       "      <td>December</td>\n",
       "      <td>18.0</td>\n",
       "      <td>352.0</td>\n",
       "      <td>Assault</td>\n",
       "    </tr>\n",
       "  </tbody>\n",
       "</table>\n",
       "</div>"
      ],
      "text/plain": [
       "   occurrenceyear occurrencemonth  occurrenceday  occurrencedayofyear  \\\n",
       "0          2015.0        December           18.0                352.0   \n",
       "1          2015.0          August           15.0                227.0   \n",
       "2          2015.0          August           16.0                228.0   \n",
       "3          2015.0        November           26.0                330.0   \n",
       "4          2015.0        December           18.0                352.0   \n",
       "\n",
       "               MCI  \n",
       "0          Assault  \n",
       "1          Assault  \n",
       "2  Break and Enter  \n",
       "3  Break and Enter  \n",
       "4          Assault  "
      ]
     },
     "execution_count": 2,
     "metadata": {},
     "output_type": "execute_result"
    }
   ],
   "source": [
    "df = pd.read_csv('MCI_2014_to_2019.csv',sep=',') \n",
    "df = df.drop(df[df['occurrenceyear'] < 2014].index)\n",
    "df = df.iloc[:,[16,17,18,19,22]]\n",
    "df.head()"
   ]
  },
  {
   "cell_type": "code",
   "execution_count": 3,
   "metadata": {},
   "outputs": [
    {
     "data": {
      "text/plain": [
       "Assault            110659\n",
       "Break and Enter     43215\n",
       "Auto Theft          23333\n",
       "Robbery             21502\n",
       "Theft Over           6671\n",
       "Name: MCI, dtype: int64"
      ]
     },
     "execution_count": 3,
     "metadata": {},
     "output_type": "execute_result"
    }
   ],
   "source": [
    "df['MCI'].value_counts()"
   ]
  },
  {
   "cell_type": "code",
   "execution_count": 4,
   "metadata": {},
   "outputs": [
    {
     "data": {
      "text/html": [
       "<div>\n",
       "<style scoped>\n",
       "    .dataframe tbody tr th:only-of-type {\n",
       "        vertical-align: middle;\n",
       "    }\n",
       "\n",
       "    .dataframe tbody tr th {\n",
       "        vertical-align: top;\n",
       "    }\n",
       "\n",
       "    .dataframe thead th {\n",
       "        text-align: right;\n",
       "    }\n",
       "</style>\n",
       "<table border=\"1\" class=\"dataframe\">\n",
       "  <thead>\n",
       "    <tr style=\"text-align: right;\">\n",
       "      <th></th>\n",
       "      <th>occurrenceyear</th>\n",
       "      <th>occurrencemonth</th>\n",
       "      <th>occurrenceday</th>\n",
       "      <th>occurrencedayofyear</th>\n",
       "      <th>MCI</th>\n",
       "      <th>month</th>\n",
       "    </tr>\n",
       "  </thead>\n",
       "  <tbody>\n",
       "    <tr>\n",
       "      <th>0</th>\n",
       "      <td>2015.0</td>\n",
       "      <td>December</td>\n",
       "      <td>18.0</td>\n",
       "      <td>352.0</td>\n",
       "      <td>Assault</td>\n",
       "      <td>12.0</td>\n",
       "    </tr>\n",
       "    <tr>\n",
       "      <th>1</th>\n",
       "      <td>2015.0</td>\n",
       "      <td>August</td>\n",
       "      <td>15.0</td>\n",
       "      <td>227.0</td>\n",
       "      <td>Assault</td>\n",
       "      <td>8.0</td>\n",
       "    </tr>\n",
       "    <tr>\n",
       "      <th>2</th>\n",
       "      <td>2015.0</td>\n",
       "      <td>August</td>\n",
       "      <td>16.0</td>\n",
       "      <td>228.0</td>\n",
       "      <td>Break and Enter</td>\n",
       "      <td>8.0</td>\n",
       "    </tr>\n",
       "    <tr>\n",
       "      <th>3</th>\n",
       "      <td>2015.0</td>\n",
       "      <td>November</td>\n",
       "      <td>26.0</td>\n",
       "      <td>330.0</td>\n",
       "      <td>Break and Enter</td>\n",
       "      <td>11.0</td>\n",
       "    </tr>\n",
       "    <tr>\n",
       "      <th>4</th>\n",
       "      <td>2015.0</td>\n",
       "      <td>December</td>\n",
       "      <td>18.0</td>\n",
       "      <td>352.0</td>\n",
       "      <td>Assault</td>\n",
       "      <td>12.0</td>\n",
       "    </tr>\n",
       "  </tbody>\n",
       "</table>\n",
       "</div>"
      ],
      "text/plain": [
       "   occurrenceyear occurrencemonth  occurrenceday  occurrencedayofyear  \\\n",
       "0          2015.0        December           18.0                352.0   \n",
       "1          2015.0          August           15.0                227.0   \n",
       "2          2015.0          August           16.0                228.0   \n",
       "3          2015.0        November           26.0                330.0   \n",
       "4          2015.0        December           18.0                352.0   \n",
       "\n",
       "               MCI  month  \n",
       "0          Assault   12.0  \n",
       "1          Assault    8.0  \n",
       "2  Break and Enter    8.0  \n",
       "3  Break and Enter   11.0  \n",
       "4          Assault   12.0  "
      ]
     },
     "execution_count": 4,
     "metadata": {},
     "output_type": "execute_result"
    }
   ],
   "source": [
    "df['month'] = pd.to_datetime(df.occurrencemonth, format='%B').dt.month\n",
    "\n",
    "df.head()"
   ]
  },
  {
   "cell_type": "code",
   "execution_count": 5,
   "metadata": {},
   "outputs": [
    {
     "data": {
      "text/html": [
       "<div>\n",
       "<style scoped>\n",
       "    .dataframe tbody tr th:only-of-type {\n",
       "        vertical-align: middle;\n",
       "    }\n",
       "\n",
       "    .dataframe tbody tr th {\n",
       "        vertical-align: top;\n",
       "    }\n",
       "\n",
       "    .dataframe thead th {\n",
       "        text-align: right;\n",
       "    }\n",
       "</style>\n",
       "<table border=\"1\" class=\"dataframe\">\n",
       "  <thead>\n",
       "    <tr style=\"text-align: right;\">\n",
       "      <th></th>\n",
       "      <th>year</th>\n",
       "      <th>occurrencemonth</th>\n",
       "      <th>day</th>\n",
       "      <th>occurrencedayofyear</th>\n",
       "      <th>MCI</th>\n",
       "      <th>month</th>\n",
       "    </tr>\n",
       "  </thead>\n",
       "  <tbody>\n",
       "    <tr>\n",
       "      <th>0</th>\n",
       "      <td>2015.0</td>\n",
       "      <td>December</td>\n",
       "      <td>18.0</td>\n",
       "      <td>352.0</td>\n",
       "      <td>Assault</td>\n",
       "      <td>12.0</td>\n",
       "    </tr>\n",
       "    <tr>\n",
       "      <th>1</th>\n",
       "      <td>2015.0</td>\n",
       "      <td>August</td>\n",
       "      <td>15.0</td>\n",
       "      <td>227.0</td>\n",
       "      <td>Assault</td>\n",
       "      <td>8.0</td>\n",
       "    </tr>\n",
       "    <tr>\n",
       "      <th>2</th>\n",
       "      <td>2015.0</td>\n",
       "      <td>August</td>\n",
       "      <td>16.0</td>\n",
       "      <td>228.0</td>\n",
       "      <td>Break and Enter</td>\n",
       "      <td>8.0</td>\n",
       "    </tr>\n",
       "    <tr>\n",
       "      <th>3</th>\n",
       "      <td>2015.0</td>\n",
       "      <td>November</td>\n",
       "      <td>26.0</td>\n",
       "      <td>330.0</td>\n",
       "      <td>Break and Enter</td>\n",
       "      <td>11.0</td>\n",
       "    </tr>\n",
       "    <tr>\n",
       "      <th>4</th>\n",
       "      <td>2015.0</td>\n",
       "      <td>December</td>\n",
       "      <td>18.0</td>\n",
       "      <td>352.0</td>\n",
       "      <td>Assault</td>\n",
       "      <td>12.0</td>\n",
       "    </tr>\n",
       "  </tbody>\n",
       "</table>\n",
       "</div>"
      ],
      "text/plain": [
       "     year occurrencemonth   day  occurrencedayofyear              MCI  month\n",
       "0  2015.0        December  18.0                352.0          Assault   12.0\n",
       "1  2015.0          August  15.0                227.0          Assault    8.0\n",
       "2  2015.0          August  16.0                228.0  Break and Enter    8.0\n",
       "3  2015.0        November  26.0                330.0  Break and Enter   11.0\n",
       "4  2015.0        December  18.0                352.0          Assault   12.0"
      ]
     },
     "execution_count": 5,
     "metadata": {},
     "output_type": "execute_result"
    }
   ],
   "source": [
    "df=df.rename(columns = {'occurrenceyear':'year'})\n",
    "df=df.rename(columns = {'occurrenceday':'day'})\n",
    "\n",
    "df.head()"
   ]
  },
  {
   "cell_type": "code",
   "execution_count": 6,
   "metadata": {},
   "outputs": [],
   "source": [
    "df['Date'] = pd.to_datetime(df[['year', 'month']].assign(Day=1))"
   ]
  },
  {
   "cell_type": "code",
   "execution_count": 7,
   "metadata": {},
   "outputs": [],
   "source": [
    "df.drop(df.columns[0:4], axis=1, inplace=True)\n",
    "df.drop(df.columns[1], axis=1, inplace=True)\n"
   ]
  },
  {
   "cell_type": "code",
   "execution_count": 8,
   "metadata": {},
   "outputs": [
    {
     "data": {
      "text/html": [
       "<div>\n",
       "<style scoped>\n",
       "    .dataframe tbody tr th:only-of-type {\n",
       "        vertical-align: middle;\n",
       "    }\n",
       "\n",
       "    .dataframe tbody tr th {\n",
       "        vertical-align: top;\n",
       "    }\n",
       "\n",
       "    .dataframe thead th {\n",
       "        text-align: right;\n",
       "    }\n",
       "</style>\n",
       "<table border=\"1\" class=\"dataframe\">\n",
       "  <thead>\n",
       "    <tr style=\"text-align: right;\">\n",
       "      <th></th>\n",
       "      <th>MCI</th>\n",
       "      <th>Date</th>\n",
       "    </tr>\n",
       "  </thead>\n",
       "  <tbody>\n",
       "    <tr>\n",
       "      <th>0</th>\n",
       "      <td>Assault</td>\n",
       "      <td>2015-12-01</td>\n",
       "    </tr>\n",
       "    <tr>\n",
       "      <th>1</th>\n",
       "      <td>Assault</td>\n",
       "      <td>2015-08-01</td>\n",
       "    </tr>\n",
       "    <tr>\n",
       "      <th>2</th>\n",
       "      <td>Break and Enter</td>\n",
       "      <td>2015-08-01</td>\n",
       "    </tr>\n",
       "    <tr>\n",
       "      <th>3</th>\n",
       "      <td>Break and Enter</td>\n",
       "      <td>2015-11-01</td>\n",
       "    </tr>\n",
       "    <tr>\n",
       "      <th>4</th>\n",
       "      <td>Assault</td>\n",
       "      <td>2015-12-01</td>\n",
       "    </tr>\n",
       "  </tbody>\n",
       "</table>\n",
       "</div>"
      ],
      "text/plain": [
       "               MCI       Date\n",
       "0          Assault 2015-12-01\n",
       "1          Assault 2015-08-01\n",
       "2  Break and Enter 2015-08-01\n",
       "3  Break and Enter 2015-11-01\n",
       "4          Assault 2015-12-01"
      ]
     },
     "execution_count": 8,
     "metadata": {},
     "output_type": "execute_result"
    }
   ],
   "source": [
    "df.head()\n"
   ]
  },
  {
   "cell_type": "code",
   "execution_count": 9,
   "metadata": {},
   "outputs": [],
   "source": [
    "#frequency counts\n",
    "df = df.groupby('Date')['MCI'].value_counts().reset_index(name='FC')"
   ]
  },
  {
   "cell_type": "code",
   "execution_count": 10,
   "metadata": {},
   "outputs": [],
   "source": [
    "FC_MCI = df.groupby(['Date'], as_index=False)['FC'].sum()"
   ]
  },
  {
   "cell_type": "code",
   "execution_count": 11,
   "metadata": {},
   "outputs": [],
   "source": [
    "dates = pd.date_range(start='2014-01-01', freq='MS', periods=len(FC_MCI))\n",
    "\n",
    "FC_MCI.set_index(dates, inplace=True)"
   ]
  },
  {
   "cell_type": "code",
   "execution_count": 12,
   "metadata": {},
   "outputs": [],
   "source": [
    "MCI = FC_MCI\n",
    "MCI.head()\n",
    "MCI_total = MCI['FC']"
   ]
  },
  {
   "cell_type": "code",
   "execution_count": 13,
   "metadata": {},
   "outputs": [
    {
     "data": {
      "text/plain": [
       "2014-01-01    2448\n",
       "2014-02-01    2203\n",
       "2014-03-01    2420\n",
       "2014-04-01    2509\n",
       "2014-05-01    2856\n",
       "Freq: MS, Name: FC, dtype: int64"
      ]
     },
     "execution_count": 13,
     "metadata": {},
     "output_type": "execute_result"
    }
   ],
   "source": [
    "MCI_total.head()"
   ]
  },
  {
   "cell_type": "code",
   "execution_count": null,
   "metadata": {},
   "outputs": [],
   "source": []
  },
  {
   "cell_type": "code",
   "execution_count": 14,
   "metadata": {},
   "outputs": [
    {
     "data": {
      "image/png": "[encoded data removed]",
      "text/plain": [
       "<Figure size 432x288 with 1 Axes>"
      ]
     },
     "metadata": {
      "needs_background": "light"
     },
     "output_type": "display_data"
    }
   ],
   "source": [
    "# Plot the time series using the DataFrame's .plot() method.\n",
    "MCI_total.plot()\n",
    "plt.show()"
   ]
  },
  {
   "cell_type": "code",
   "execution_count": 15,
   "metadata": {},
   "outputs": [],
   "source": [
    "from statsmodels.tsa.stattools import adfuller"
   ]
  },
  {
   "cell_type": "code",
   "execution_count": 16,
   "metadata": {},
   "outputs": [],
   "source": [
    "# Run Dicky-Fuller test\n",
    "result = adfuller(MCI_total)"
   ]
  },
  {
   "cell_type": "code",
   "execution_count": 17,
   "metadata": {},
   "outputs": [
    {
     "name": "stdout",
     "output_type": "stream",
     "text": [
      "(-0.014263537039916358, 0.9573364854172691, 12, 59, {'1%': -3.5463945337644063, '5%': -2.911939409384601, '10%': -2.5936515282964665}, 766.485516865103)\n"
     ]
    }
   ],
   "source": [
    "# Print test statistic\n",
    "print(result)"
   ]
  },
  {
   "cell_type": "code",
   "execution_count": 18,
   "metadata": {},
   "outputs": [],
   "source": [
    "# Import ACF and PCF functions\n",
    "from statsmodels.graphics.tsaplots import plot_acf, plot_pacf"
   ]
  },
  {
   "cell_type": "code",
   "execution_count": 19,
   "metadata": {},
   "outputs": [
    {
     "data": {
      "image/png": "[encoded data removed]",
      "text/plain": [
       "<Figure size 864x576 with 2 Axes>"
      ]
     },
     "metadata": {
      "needs_background": "light"
     },
     "output_type": "display_data"
    }
   ],
   "source": [
    "# Create figure\n",
    "fig, (ax1, ax2) = plt.subplots(2,1, figsize=(12,8))\n",
    " \n",
    "# Plot the ACF on ax1\n",
    "plot_acf(MCI_total, lags=10, zero=False, ax=ax1)\n",
    "\n",
    "# Plot the PACF of on ax2\n",
    "plot_pacf(MCI_total, lags=10, zero=False, ax=ax2)\n",
    "\n",
    "plt.show()"
   ]
  },
  {
   "cell_type": "code",
   "execution_count": 20,
   "metadata": {},
   "outputs": [],
   "source": [
    "# Import the SARIMAX model\n",
    "from statsmodels.tsa.statespace.sarimax import SARIMAX"
   ]
  },
  {
   "cell_type": "code",
   "execution_count": 50,
   "metadata": {},
   "outputs": [
    {
     "name": "stdout",
     "output_type": "stream",
     "text": [
      "0 0 958.0975463348444 962.622906088927\n",
      "0 1 957.0413747565797 963.8294143877037\n",
      "0 2 959.0365361313053 968.0872556394705\n"
     ]
    },
    {
     "name": "stderr",
     "output_type": "stream",
     "text": [
      "C:\\Users\\shivu\\Anaconda3\\lib\\site-packages\\statsmodels\\base\\model.py:568: ConvergenceWarning: Maximum Likelihood optimization failed to converge. Check mle_retvals\n",
      "  \"Check mle_retvals\", ConvergenceWarning)\n"
     ]
    },
    {
     "name": "stdout",
     "output_type": "stream",
     "text": [
      "0 3 947.0775197029113 958.3909190881179\n"
     ]
    },
    {
     "name": "stderr",
     "output_type": "stream",
     "text": [
      "C:\\Users\\shivu\\Anaconda3\\lib\\site-packages\\statsmodels\\base\\model.py:568: ConvergenceWarning: Maximum Likelihood optimization failed to converge. Check mle_retvals\n",
      "  \"Check mle_retvals\", ConvergenceWarning)\n"
     ]
    },
    {
     "name": "stdout",
     "output_type": "stream",
     "text": [
      "0 4 948.3500297697641 961.9261090320119\n",
      "1 0 956.8821249775278 963.6701646086518\n",
      "1 1 958.451891775282 967.5026112834472\n",
      "1 2 949.0968494077321 960.4102487929387\n",
      "1 3 948.5177456274232 962.093824889671\n"
     ]
    },
    {
     "name": "stderr",
     "output_type": "stream",
     "text": [
      "C:\\Users\\shivu\\Anaconda3\\lib\\site-packages\\statsmodels\\base\\model.py:568: ConvergenceWarning: Maximum Likelihood optimization failed to converge. Check mle_retvals\n",
      "  \"Check mle_retvals\", ConvergenceWarning)\n"
     ]
    },
    {
     "name": "stdout",
     "output_type": "stream",
     "text": [
      "1 4 949.2005020703753 965.0392612096645\n",
      "2 0 958.7483857852876 967.7991052934528\n"
     ]
    },
    {
     "name": "stderr",
     "output_type": "stream",
     "text": [
      "C:\\Users\\shivu\\Anaconda3\\lib\\site-packages\\statsmodels\\base\\model.py:568: ConvergenceWarning: Maximum Likelihood optimization failed to converge. Check mle_retvals\n",
      "  \"Check mle_retvals\", ConvergenceWarning)\n"
     ]
    },
    {
     "name": "stdout",
     "output_type": "stream",
     "text": [
      "2 1 958.1151204300377 969.4285198152443\n"
     ]
    },
    {
     "name": "stderr",
     "output_type": "stream",
     "text": [
      "C:\\Users\\shivu\\Anaconda3\\lib\\site-packages\\statsmodels\\base\\model.py:568: ConvergenceWarning: Maximum Likelihood optimization failed to converge. Check mle_retvals\n",
      "  \"Check mle_retvals\", ConvergenceWarning)\n"
     ]
    },
    {
     "name": "stdout",
     "output_type": "stream",
     "text": [
      "2 2 947.9280653438558 961.5041446061036\n"
     ]
    },
    {
     "name": "stderr",
     "output_type": "stream",
     "text": [
      "C:\\Users\\shivu\\Anaconda3\\lib\\site-packages\\statsmodels\\base\\model.py:568: ConvergenceWarning: Maximum Likelihood optimization failed to converge. Check mle_retvals\n",
      "  \"Check mle_retvals\", ConvergenceWarning)\n"
     ]
    },
    {
     "name": "stdout",
     "output_type": "stream",
     "text": [
      "2 3 937.5014905253705 953.3402496646597\n"
     ]
    },
    {
     "name": "stderr",
     "output_type": "stream",
     "text": [
      "C:\\Users\\shivu\\Anaconda3\\lib\\site-packages\\statsmodels\\base\\model.py:568: ConvergenceWarning: Maximum Likelihood optimization failed to converge. Check mle_retvals\n",
      "  \"Check mle_retvals\", ConvergenceWarning)\n"
     ]
    },
    {
     "name": "stdout",
     "output_type": "stream",
     "text": [
      "2 4 952.8941836032772 970.9956226196077\n",
      "3 0 959.4488938390245 970.7622932242311\n"
     ]
    },
    {
     "name": "stderr",
     "output_type": "stream",
     "text": [
      "C:\\Users\\shivu\\Anaconda3\\lib\\site-packages\\statsmodels\\base\\model.py:568: ConvergenceWarning: Maximum Likelihood optimization failed to converge. Check mle_retvals\n",
      "  \"Check mle_retvals\", ConvergenceWarning)\n"
     ]
    },
    {
     "name": "stdout",
     "output_type": "stream",
     "text": [
      "3 1 945.3359408274604 958.9120200897082\n",
      "3 2 949.3938627303439 965.2326218696331\n"
     ]
    },
    {
     "name": "stderr",
     "output_type": "stream",
     "text": [
      "C:\\Users\\shivu\\Anaconda3\\lib\\site-packages\\statsmodels\\base\\model.py:568: ConvergenceWarning: Maximum Likelihood optimization failed to converge. Check mle_retvals\n",
      "  \"Check mle_retvals\", ConvergenceWarning)\n"
     ]
    },
    {
     "name": "stdout",
     "output_type": "stream",
     "text": [
      "3 3 949.5296145441573 967.6310535604879\n"
     ]
    },
    {
     "name": "stderr",
     "output_type": "stream",
     "text": [
      "C:\\Users\\shivu\\Anaconda3\\lib\\site-packages\\statsmodels\\base\\model.py:568: ConvergenceWarning: Maximum Likelihood optimization failed to converge. Check mle_retvals\n",
      "  \"Check mle_retvals\", ConvergenceWarning)\n"
     ]
    },
    {
     "name": "stdout",
     "output_type": "stream",
     "text": [
      "3 4 959.884491218684 980.2486101120559\n",
      "4 0 960.5438000846098 974.1198793468576\n",
      "4 1 945.5066417799103 961.3454009191995\n"
     ]
    },
    {
     "name": "stderr",
     "output_type": "stream",
     "text": [
      "C:\\Users\\shivu\\Anaconda3\\lib\\site-packages\\statsmodels\\base\\model.py:568: ConvergenceWarning: Maximum Likelihood optimization failed to converge. Check mle_retvals\n",
      "  \"Check mle_retvals\", ConvergenceWarning)\n"
     ]
    },
    {
     "name": "stdout",
     "output_type": "stream",
     "text": [
      "4 2 947.7121441125734 965.8135831289039\n"
     ]
    },
    {
     "name": "stderr",
     "output_type": "stream",
     "text": [
      "C:\\Users\\shivu\\Anaconda3\\lib\\site-packages\\statsmodels\\base\\model.py:568: ConvergenceWarning: Maximum Likelihood optimization failed to converge. Check mle_retvals\n",
      "  \"Check mle_retvals\", ConvergenceWarning)\n"
     ]
    },
    {
     "name": "stdout",
     "output_type": "stream",
     "text": [
      "4 3 950.6985449180729 971.0626638114447\n",
      "4 4 962.4128277656419 985.039626536055\n"
     ]
    },
    {
     "name": "stderr",
     "output_type": "stream",
     "text": [
      "C:\\Users\\shivu\\Anaconda3\\lib\\site-packages\\statsmodels\\base\\model.py:568: ConvergenceWarning: Maximum Likelihood optimization failed to converge. Check mle_retvals\n",
      "  \"Check mle_retvals\", ConvergenceWarning)\n"
     ]
    }
   ],
   "source": [
    "# Loop over p values from 0-5\n",
    "for p in range(5):\n",
    "# Loop over q values from 0-5\n",
    "    for q in range(5):\n",
    "        try:\n",
    "            # Create and fit ARIMA(p,d,q) model\n",
    "            model = SARIMAX(MCI_total, order=(p,1,q), trend='c')\n",
    "            results = model.fit()\n",
    "        \n",
    "            # Print p, q, AIC, BIC\n",
    "            print(p, q, results.aic, results.bic)\n",
    "        \n",
    "        except:\n",
    "            print(p, q, None, None)"
   ]
  },
  {
   "cell_type": "code",
   "execution_count": 51,
   "metadata": {},
   "outputs": [],
   "source": [
    "# Instantiate the model\n",
    "arma = SARIMAX(MCI_total, order=(0,0,1), trend ='c')"
   ]
  },
  {
   "cell_type": "code",
   "execution_count": 52,
   "metadata": {},
   "outputs": [
    {
     "name": "stdout",
     "output_type": "stream",
     "text": [
      "                               SARIMAX Results                                \n",
      "==============================================================================\n",
      "Dep. Variable:                     FC   No. Observations:                   72\n",
      "Model:               SARIMAX(0, 0, 1)   Log Likelihood                -491.759\n",
      "Date:                Mon, 13 Apr 2020   AIC                            989.518\n",
      "Time:                        19:25:14   BIC                            996.348\n",
      "Sample:                    01-01-2014   HQIC                           992.237\n",
      "                         - 12-01-2019                                         \n",
      "Covariance Type:                  opg                                         \n",
      "==============================================================================\n",
      "                 coef    std err          z      P>|z|      [0.025      0.975]\n",
      "------------------------------------------------------------------------------\n",
      "intercept   2849.8226     40.568     70.247      0.000    2770.310    2929.335\n",
      "ma.L1          0.5372      0.091      5.900      0.000       0.359       0.716\n",
      "sigma2      4.988e+04   7694.134      6.483      0.000    3.48e+04     6.5e+04\n",
      "===================================================================================\n",
      "Ljung-Box (Q):                      116.98   Jarque-Bera (JB):                 0.48\n",
      "Prob(Q):                              0.00   Prob(JB):                         0.79\n",
      "Heteroskedasticity (H):               1.69   Skew:                             0.10\n",
      "Prob(H) (two-sided):                  0.20   Kurtosis:                         3.35\n",
      "===================================================================================\n",
      "\n",
      "Warnings:\n",
      "[1] Covariance matrix calculated using the outer product of gradients (complex-step).\n"
     ]
    }
   ],
   "source": [
    "results = arma.fit()\n",
    "print(results.summary())"
   ]
  },
  {
   "cell_type": "code",
   "execution_count": 53,
   "metadata": {},
   "outputs": [
    {
     "data": {
      "image/png": "[encoded data removed]",
      "text/plain": [
       "<Figure size 432x288 with 4 Axes>"
      ]
     },
     "metadata": {
      "needs_background": "light"
     },
     "output_type": "display_data"
    }
   ],
   "source": [
    "# Create the 4 diagostics plots\n",
    "results.plot_diagnostics()\n",
    "plt.show()"
   ]
  },
  {
   "cell_type": "code",
   "execution_count": 54,
   "metadata": {},
   "outputs": [
    {
     "name": "stdout",
     "output_type": "stream",
     "text": [
      "2017-12-01    2955.778529\n",
      "2018-01-01    2779.034755\n",
      "2018-02-01    2982.485509\n",
      "2018-03-01    2657.791164\n",
      "2018-04-01    3024.515817\n",
      "2018-05-01    2695.376961\n",
      "2018-06-01    3123.040889\n",
      "2018-07-01    2840.131491\n",
      "2018-08-01    2939.459742\n",
      "2018-09-01    2960.233143\n",
      "2018-10-01    2849.697323\n",
      "2018-11-01    3046.053127\n",
      "2018-12-01    2932.518594\n",
      "2019-01-01    2948.383734\n",
      "2019-02-01    2821.683458\n",
      "2019-03-01    2753.301542\n",
      "2019-04-01    2947.425983\n",
      "2019-05-01    2885.047123\n",
      "2019-06-01    3067.889298\n",
      "2019-07-01    3040.578278\n",
      "2019-08-01    3141.196614\n",
      "2019-09-01    2929.755654\n",
      "2019-10-01    2983.709779\n",
      "2019-11-01    3113.193003\n",
      "2019-12-01    2887.858136\n",
      "Freq: MS, dtype: float64\n"
     ]
    }
   ],
   "source": [
    "# Make in sample predictions \n",
    "one_step_forecast = results.get_prediction(start=-25)\n",
    "# Extract prediction mean\n",
    "mean_forecast = one_step_forecast.predicted_mean\n",
    "\n",
    "\n",
    "# Get confidence intervals of predictions\n",
    "confidence_intervals = one_step_forecast.conf_int()\n",
    "\n",
    "\n",
    "lower_limits = confidence_intervals.loc[:,]\n",
    "upper_limits = confidence_intervals.loc[:,]\n",
    "\n",
    "# Print best estimate predictions\n",
    "print(mean_forecast)"
   ]
  },
  {
   "cell_type": "code",
   "execution_count": 55,
   "metadata": {},
   "outputs": [],
   "source": [
    "lower_limits=np.array(lower_limits)"
   ]
  },
  {
   "cell_type": "code",
   "execution_count": 56,
   "metadata": {},
   "outputs": [
    {
     "data": {
      "image/png": "[encoded data removed]",
      "text/plain": [
       "<Figure size 432x288 with 1 Axes>"
      ]
     },
     "metadata": {
      "needs_background": "light"
     },
     "output_type": "display_data"
    }
   ],
   "source": [
    "# plot the data\n",
    "plt.plot(MCI_total.index,MCI_total,label='observed')\n",
    "\n",
    "# plot your mean predictions\n",
    "plt.plot(mean_forecast.index, mean_forecast, color='r', label='forecast')\n",
    "# shade the area between your confidence limits\n",
    "#plt.fill_between(lower_limits.index,lower_limits,upper_limits, color='pink',alpha=1)\n",
    "\n",
    "\n",
    "# set labels, legends and show plot\n",
    "plt.xlabel('Date')\n",
    "plt.ylabel('MCI')\n",
    "plt.title('forcasting number of crimes')\n",
    "plt.legend()\n",
    "plt.show()"
   ]
  },
  {
   "cell_type": "code",
   "execution_count": 57,
   "metadata": {},
   "outputs": [
    {
     "name": "stdout",
     "output_type": "stream",
     "text": [
      "2017-12-01    2955.778529\n",
      "2018-01-01    2849.822562\n",
      "2018-02-01    2849.822562\n",
      "2018-03-01    2849.822562\n",
      "2018-04-01    2849.822562\n",
      "2018-05-01    2849.822562\n",
      "2018-06-01    2849.822562\n",
      "2018-07-01    2849.822562\n",
      "2018-08-01    2849.822562\n",
      "2018-09-01    2849.822562\n",
      "2018-10-01    2849.822562\n",
      "2018-11-01    2849.822562\n",
      "2018-12-01    2849.822562\n",
      "2019-01-01    2849.822562\n",
      "2019-02-01    2849.822562\n",
      "2019-03-01    2849.822562\n",
      "2019-04-01    2849.822562\n",
      "2019-05-01    2849.822562\n",
      "2019-06-01    2849.822562\n",
      "2019-07-01    2849.822562\n",
      "2019-08-01    2849.822562\n",
      "2019-09-01    2849.822562\n",
      "2019-10-01    2849.822562\n",
      "2019-11-01    2849.822562\n",
      "2019-12-01    2849.822562\n",
      "Freq: MS, dtype: float64\n",
      "               lower FC     upper FC\n",
      "2017-12-01  2518.044824  3393.512233\n",
      "2018-01-01  2352.931304  3346.713819\n",
      "2018-02-01  2352.931304  3346.713819\n",
      "2018-03-01  2352.931304  3346.713819\n",
      "2018-04-01  2352.931304  3346.713819\n",
      "2018-05-01  2352.931304  3346.713819\n",
      "2018-06-01  2352.931304  3346.713819\n",
      "2018-07-01  2352.931304  3346.713819\n",
      "2018-08-01  2352.931304  3346.713819\n",
      "2018-09-01  2352.931304  3346.713819\n",
      "2018-10-01  2352.931304  3346.713819\n",
      "2018-11-01  2352.931304  3346.713819\n",
      "2018-12-01  2352.931304  3346.713819\n",
      "2019-01-01  2352.931304  3346.713819\n",
      "2019-02-01  2352.931304  3346.713819\n",
      "2019-03-01  2352.931304  3346.713819\n",
      "2019-04-01  2352.931304  3346.713819\n",
      "2019-05-01  2352.931304  3346.713819\n",
      "2019-06-01  2352.931304  3346.713819\n",
      "2019-07-01  2352.931304  3346.713819\n",
      "2019-08-01  2352.931304  3346.713819\n",
      "2019-09-01  2352.931304  3346.713819\n",
      "2019-10-01  2352.931304  3346.713819\n",
      "2019-11-01  2352.931304  3346.713819\n",
      "2019-12-01  2352.931304  3346.713819\n",
      "               lower FC     upper FC\n",
      "2017-12-01  2518.044824  3393.512233\n",
      "2018-01-01  2352.931304  3346.713819\n",
      "2018-02-01  2352.931304  3346.713819\n",
      "2018-03-01  2352.931304  3346.713819\n",
      "2018-04-01  2352.931304  3346.713819\n",
      "2018-05-01  2352.931304  3346.713819\n",
      "2018-06-01  2352.931304  3346.713819\n",
      "2018-07-01  2352.931304  3346.713819\n",
      "2018-08-01  2352.931304  3346.713819\n",
      "2018-09-01  2352.931304  3346.713819\n",
      "2018-10-01  2352.931304  3346.713819\n",
      "2018-11-01  2352.931304  3346.713819\n",
      "2018-12-01  2352.931304  3346.713819\n",
      "2019-01-01  2352.931304  3346.713819\n",
      "2019-02-01  2352.931304  3346.713819\n",
      "2019-03-01  2352.931304  3346.713819\n",
      "2019-04-01  2352.931304  3346.713819\n",
      "2019-05-01  2352.931304  3346.713819\n",
      "2019-06-01  2352.931304  3346.713819\n",
      "2019-07-01  2352.931304  3346.713819\n",
      "2019-08-01  2352.931304  3346.713819\n",
      "2019-09-01  2352.931304  3346.713819\n",
      "2019-10-01  2352.931304  3346.713819\n",
      "2019-11-01  2352.931304  3346.713819\n",
      "2019-12-01  2352.931304  3346.713819\n"
     ]
    }
   ],
   "source": [
    "# Make  dynamic predictions\n",
    "one_step_forecast = results.get_prediction(start=-25, dynamic = True)\n",
    "# Extract prediction mean\n",
    "mean_forecast = one_step_forecast.predicted_mean\n",
    "\n",
    "\n",
    "# Print best estimate predictions\n",
    "print(mean_forecast)\n",
    "# Get confidence intervals of predictions\n",
    "confidence_intervals = one_step_forecast.conf_int()\n",
    "lower_limits = confidence_intervals.loc[:,]\n",
    "upper_limits = confidence_intervals.loc[:,]\n",
    "\n",
    "print(lower_limits)\n",
    "print(upper_limits)"
   ]
  },
  {
   "cell_type": "code",
   "execution_count": 58,
   "metadata": {},
   "outputs": [
    {
     "data": {
      "text/plain": [
       "2017-12-01    2955.778529\n",
       "2018-01-01    2849.822562\n",
       "2018-02-01    2849.822562\n",
       "2018-03-01    2849.822562\n",
       "2018-04-01    2849.822562\n",
       "Freq: MS, dtype: float64"
      ]
     },
     "execution_count": 58,
     "metadata": {},
     "output_type": "execute_result"
    }
   ],
   "source": [
    "mean_forecast.head()"
   ]
  },
  {
   "cell_type": "code",
   "execution_count": 59,
   "metadata": {},
   "outputs": [],
   "source": [
    "lower_limits=np.array(lower_limits)"
   ]
  },
  {
   "cell_type": "code",
   "execution_count": 60,
   "metadata": {},
   "outputs": [
    {
     "data": {
      "image/png": "[encoded data removed]",
      "text/plain": [
       "<Figure size 432x288 with 1 Axes>"
      ]
     },
     "metadata": {
      "needs_background": "light"
     },
     "output_type": "display_data"
    }
   ],
   "source": [
    "# plot the data\n",
    "plt.plot(MCI_total.index,MCI_total, label='observed')\n",
    "\n",
    "# plot your mean predictions\n",
    "plt.plot(mean_forecast.index, mean_forecast, color='r', label='forecast')\n",
    "# shade the area between your confidence limits\n",
    "#plt.fill_between(lower_limits.index, lower_limits, upper_limits, color='color',alpha=1)\n",
    "# set labels, legends and show plot\n",
    "plt.xlabel('Date')\n",
    "plt.ylabel('MCI')\n",
    "plt.title('forcasting number of crimes')\n",
    "plt.legend()\n",
    "plt.show()"
   ]
  },
  {
   "cell_type": "code",
   "execution_count": 61,
   "metadata": {},
   "outputs": [
    {
     "name": "stdout",
     "output_type": "stream",
     "text": [
      "2020-01-01    2783.289373\n",
      "2020-02-01    2849.822562\n",
      "2020-03-01    2849.822562\n",
      "2020-04-01    2849.822562\n",
      "2020-05-01    2849.822562\n",
      "2020-06-01    2849.822562\n",
      "2020-07-01    2849.822562\n",
      "2020-08-01    2849.822562\n",
      "2020-09-01    2849.822562\n",
      "2020-10-01    2849.822562\n",
      "Freq: MS, dtype: float64\n",
      "               lower FC     upper FC\n",
      "2020-01-01  2345.555668  3221.023077\n",
      "2020-02-01  2352.931304  3346.713819\n",
      "2020-03-01  2352.931304  3346.713819\n",
      "2020-04-01  2352.931304  3346.713819\n",
      "2020-05-01  2352.931304  3346.713819\n",
      "2020-06-01  2352.931304  3346.713819\n",
      "2020-07-01  2352.931304  3346.713819\n",
      "2020-08-01  2352.931304  3346.713819\n",
      "2020-09-01  2352.931304  3346.713819\n",
      "2020-10-01  2352.931304  3346.713819\n",
      "               lower FC     upper FC\n",
      "2020-01-01  2345.555668  3221.023077\n",
      "2020-02-01  2352.931304  3346.713819\n",
      "2020-03-01  2352.931304  3346.713819\n",
      "2020-04-01  2352.931304  3346.713819\n",
      "2020-05-01  2352.931304  3346.713819\n",
      "2020-06-01  2352.931304  3346.713819\n",
      "2020-07-01  2352.931304  3346.713819\n",
      "2020-08-01  2352.931304  3346.713819\n",
      "2020-09-01  2352.931304  3346.713819\n",
      "2020-10-01  2352.931304  3346.713819\n"
     ]
    }
   ],
   "source": [
    "# Make forecast of next 10 values\n",
    "forecast = results.get_forecast(steps=10)\n",
    "arma_value_forecast = forecast.predicted_mean\n",
    "\n",
    "# Print forecast\n",
    "print(arma_value_forecast)\n",
    "# Get confidence intervals of predictions\n",
    "confidence_intervals = forecast.conf_int()\n",
    "lower_limits = confidence_intervals.loc[:,]\n",
    "upper_limits = confidence_intervals.loc[:,]\n",
    "\n",
    "print(lower_limits)\n",
    "print(upper_limits)"
   ]
  },
  {
   "cell_type": "code",
   "execution_count": 62,
   "metadata": {},
   "outputs": [],
   "source": [
    "lower_limits=np.array(lower_limits)"
   ]
  },
  {
   "cell_type": "code",
   "execution_count": 63,
   "metadata": {},
   "outputs": [
    {
     "data": {
      "image/png": "[encoded data removed]",
      "text/plain": [
       "<Figure size 432x288 with 1 Axes>"
      ]
     },
     "metadata": {
      "needs_background": "light"
     },
     "output_type": "display_data"
    }
   ],
   "source": [
    "# plot the data\n",
    "plt.plot(MCI_total.index,MCI_total, label='observed')\n",
    "\n",
    "# plot your mean predictions\n",
    "plt.plot(arma_value_forecast.index, arma_value_forecast, color='r', label='forecast')\n",
    "# shade the area between your confidence limits\n",
    "#plt.fill_between(lower_limits.index, lower_limits, upper_limits, color='pink')\n",
    "# set labels, legends and show plot\n",
    "plt.xlabel('Date')\n",
    "plt.ylabel('MCI')\n",
    "plt.title('forcasting number of crimes')\n",
    "plt.legend()\n",
    "plt.show()\n"
   ]
  },
  {
   "cell_type": "code",
   "execution_count": null,
   "metadata": {},
   "outputs": [],
   "source": []
  },
  {
   "cell_type": "code",
   "execution_count": null,
   "metadata": {},
   "outputs": [],
   "source": []
  }
 ],
 "metadata": {
  "kernelspec": {
   "display_name": "Python 3",
   "language": "python",
   "name": "python3"
  },
  "language_info": {
   "codemirror_mode": {
    "name": "ipython",
    "version": 3
   },
   "file_extension": ".py",
   "mimetype": "text/x-python",
   "name": "python",
   "nbconvert_exporter": "python",
   "pygments_lexer": "ipython3",
   "version": "3.7.4"
  }
 },
 "nbformat": 4,
 "nbformat_minor": 2
}
